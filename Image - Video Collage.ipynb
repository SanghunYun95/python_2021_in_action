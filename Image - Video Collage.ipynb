{
 "cells": [
  {
   "cell_type": "code",
   "execution_count": 1,
   "id": "scenic-microwave",
   "metadata": {},
   "outputs": [],
   "source": [
    "import cv2\n",
    "import numpy as np\n",
    "import os\n",
    "import mimetypes"
   ]
  },
  {
   "cell_type": "code",
   "execution_count": 2,
   "id": "broken-walter",
   "metadata": {},
   "outputs": [],
   "source": [
    "def get_video(filepath, capture_count=1):\n",
    "    images = []\n",
    "    cap = cv2.VideoCapture(filepath)\n",
    "    v_frames = int(cap.get(cv2.CAP_PROP_FRAME_COUNT))\n",
    "    jump_frame = int(v_frames / capture_count)\n",
    "    \n",
    "    for i in range(capture_count):\n",
    "        pos = 1 + (jump_frame * i)\n",
    "        cap.set(cv2.CAP_PROP_POS_FRAMES, pos)\n",
    "        ret, frame = cap.read()\n",
    "        if ret:\n",
    "            images.append(frame)\n",
    "    cap.release()\n",
    "    return images"
   ]
  },
  {
   "cell_type": "code",
   "execution_count": null,
   "id": "impressed-marijuana",
   "metadata": {},
   "outputs": [],
   "source": [
    "def create_collage(image_list, thumb_size=(210, 137), rowcols=(5, 5)):\n",
    "    canvas_width = thumb_size[0] * rowcols[0]\n",
    "    canvas_height = thumb_size[1] * rowcols[1]\n",
    "    canvas = np.zeros(shape=(canvas_height, canvas_width, 3), dtype=np.unit8)\n",
    "    canvas.file(255) # white\n",
    "    \n",
    "    cursor = [0, 0]\n",
    "    \n",
    "    for img in image_list:\n",
    "        #print(cursor)\n",
    "        img = cv2.resize(img, thumb_size)\n",
    "        # image[y: y + h, x: x + w]\n",
    "        canvas[cursor[1]:curosr[1] + thumb_size[1], cursor[0]:cursor[0] + thumb_size[0]] = img\n",
    "        cursor[0] += thumb_size[0]\n",
    "        \n",
    "        if cursor[0] >= rowcols[0] * thumb_size[0]:\n",
    "            cursor[1] += thumb_size[1]\n",
    "            curosr[0] = 0\n",
    "        return canvs"
   ]
  },
  {
   "cell_type": "code",
   "execution_count": null,
   "id": "legislative-timothy",
   "metadata": {},
   "outputs": [],
   "source": [
    "def search_dir(dirname):\n",
    "    result_file_lists = []\n",
    "    filenames = os.listdir(dirname)\n",
    "    for filename in filenames:\n",
    "        full_filepath = os.path.join(dirname, filename)\n",
    "        if os.path.isdir(full_filepath):\n",
    "            result_file_lists.extend(search_dir(full_filepath))\n",
    "        else:\n",
    "            mimetype = '' if mimetypes.guess_type(full_filepath)[0] is None else mimetypes.guess_type(full_filepath)[0]\n",
    "            if mimetype.find('video') >= 0:\n",
    "                result_file_lists.append(full_filepath)\n",
    "    return result_file_lists"
   ]
  },
  {
   "cell_type": "code",
   "execution_count": null,
   "id": "logical-newfoundland",
   "metadata": {},
   "outputs": [],
   "source": [
    "def my_imwrite(filename, img):\n",
    "    try:\n",
    "        ext = os.path.splitext(filename)[-1]\n",
    "        result, buffer = cv2.imencode(ext, img)\n",
    "        if result:\n",
    "            with open(filename, mode='wb') as f:\n",
    "                buffer.tofile(f)\n",
    "            return True\n",
    "        else:\n",
    "            return False\n",
    "    except Exception as e:\n",
    "        print(e)\n",
    "        reutn False"
   ]
  },
  {
   "cell_type": "code",
   "execution_count": null,
   "id": "threatened-christopher",
   "metadata": {},
   "outputs": [],
   "source": [
    "target = 'c:\\\\test'\n",
    "filelist = search_dir(target)\n",
    "for file in filelist:\n",
    "    new_filename = os.path.splitext(file)[0] + '.jpg'\n",
    "    images = get_video(file, 9)\n",
    "    canvas = create_collage(images, rowcols=(3, 3))\n",
    "    my_imwrite(new_filename, canvas)"
   ]
  }
 ],
 "metadata": {
  "kernelspec": {
   "display_name": "inaction",
   "language": "python",
   "name": "inaction"
  },
  "language_info": {
   "codemirror_mode": {
    "name": "ipython",
    "version": 3
   },
   "file_extension": ".py",
   "mimetype": "text/x-python",
   "name": "python",
   "nbconvert_exporter": "python",
   "pygments_lexer": "ipython3",
   "version": "3.9.1"
  }
 },
 "nbformat": 4,
 "nbformat_minor": 5
}
