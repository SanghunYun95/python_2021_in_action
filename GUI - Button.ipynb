{
 "cells": [
  {
   "cell_type": "code",
   "execution_count": 3,
   "id": "assumed-three",
   "metadata": {},
   "outputs": [
    {
     "data": {
      "text/plain": [
       "0"
      ]
     },
     "execution_count": 3,
     "metadata": {},
     "output_type": "execute_result"
    }
   ],
   "source": [
    "from PyQt5 import QtWidgets\n",
    "\n",
    "class MyWindows(QtWidgets.QWidget):\n",
    "    def __init__(self):\n",
    "        super().__init__()\n",
    "        self.setWindowTitle('파이썬 Push 버튼')\n",
    "        \n",
    "        button = QtWidgets.QPushButton(self)\n",
    "        button.setText('일반 버튼')\n",
    "        \n",
    "        disableButton = QtWidgets.QPushButton(self)\n",
    "        disableButton.setText('비활성 버튼')\n",
    "        disableButton.setEnabled(False)\n",
    "        \n",
    "        checkButton = QtWidgets.QPushButton(self)\n",
    "        checkButton.setText('체크 버튼')\n",
    "        checkButton.setCheckable(True)\n",
    "        checkButton.toggle()\n",
    "        \n",
    "        layout = QtWidgets.QHBoxLayout()\n",
    "        layout.addWidget(button)\n",
    "        layout.addWidget(disableButton)\n",
    "        layout.addWidget(checkButton)\n",
    "        \n",
    "        self.setLayout(layout)\n",
    "        self.show()\n",
    "        \n",
    "app = QtWidgets.QApplication([])\n",
    "win = MyWindows()\n",
    "app.exec_()"
   ]
  }
 ],
 "metadata": {
  "kernelspec": {
   "display_name": "inaction",
   "language": "python",
   "name": "inaction"
  },
  "language_info": {
   "codemirror_mode": {
    "name": "ipython",
    "version": 3
   },
   "file_extension": ".py",
   "mimetype": "text/x-python",
   "name": "python",
   "nbconvert_exporter": "python",
   "pygments_lexer": "ipython3",
   "version": "3.9.1"
  }
 },
 "nbformat": 4,
 "nbformat_minor": 5
}
