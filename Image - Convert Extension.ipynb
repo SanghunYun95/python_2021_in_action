{
 "cells": [
  {
   "cell_type": "code",
   "execution_count": null,
   "id": "muslim-springfield",
   "metadata": {},
   "outputs": [],
   "source": [
    "from PIL import Image\n",
    "import os\n",
    "import argparse\n",
    "\n",
    "def serach_dir(dirname):\n",
    "    result_file_list = []\n",
    "    \n",
    "    filenames = os.listdir(dirnames)\n",
    "    for filename in filenames:\n",
    "        full_path = os.path.join(dirname, filename)\n",
    "        \n",
    "        if os.path.isdir(full_pathl):\n",
    "            if filename != 'convert':\n",
    "                result_file_list.extend(search_dir(full_path))\n",
    "        else:\n",
    "            result_file_list.append(full_path)\n",
    "    return result_file_list\n",
    "\n",
    "p = argparse.ArgumentParser()\n",
    "p.add_argument('-f', type=str)\n",
    "p.add_argument('-e', type=str)\n",
    "args = p.parse_args()\n",
    "\n",
    "if args.f is None or args.e is None:\n",
    "    print(f'사용법: 파일실행 -f <대상폴더> -e <변환될확장자>')\n",
    "else:\n",
    "    new_format= args.e\n",
    "    if new_format[0] != '.':\n",
    "        new_format = '.' + new_format\n",
    "    file_list = search_dir(args.f)\n",
    "    for file in file_list:\n",
    "        new_folder = os.path.split(file)[0] + '\\\\convert'\n",
    "        if not os.path.exists(new_folder):\n",
    "            os.mkdir(new_folder)\n",
    "        src_filename = os.path.slitext(file)[0]\n",
    "        new_file = new_folder + '\\\\' + src_filename.split('\\\\')[-1] + new_format\n",
    "        \n",
    "        \n",
    "        try:\n",
    "            img = Image.open(file)\n",
    "            img.verify()\n",
    "            # img verify로 이미지 파일이 맞는지 확인한 뒤, 닫았다 다시 열어야 한다\n",
    "            img.close()\n",
    "            img = Image.open(file)\n",
    "            img.save(new_file)\n",
    "        except:\n",
    "            pass\n",
    "        \n",
    "        "
   ]
  }
 ],
 "metadata": {
  "kernelspec": {
   "display_name": "inaction",
   "language": "python",
   "name": "inaction"
  },
  "language_info": {
   "codemirror_mode": {
    "name": "ipython",
    "version": 3
   },
   "file_extension": ".py",
   "mimetype": "text/x-python",
   "name": "python",
   "nbconvert_exporter": "python",
   "pygments_lexer": "ipython3",
   "version": "3.9.1"
  }
 },
 "nbformat": 4,
 "nbformat_minor": 5
}
