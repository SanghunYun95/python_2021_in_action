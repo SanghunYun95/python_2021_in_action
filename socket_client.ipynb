{
 "cells": [
  {
   "cell_type": "markdown",
   "id": "sunset-neighbor",
   "metadata": {},
   "source": [
    "### 1. 소켓 생성\n",
    "### 2. \n",
    "### 3. 접속 시도\n",
    "### 4. \n",
    "### 5. 데이터 송 / 수신\n",
    "### 6. 접속 종료"
   ]
  },
  {
   "cell_type": "code",
   "execution_count": 2,
   "id": "charitable-workshop",
   "metadata": {},
   "outputs": [
    {
     "name": "stdout",
     "output_type": "stream",
     "text": [
      "1. 소켓 생성\n",
      "3. 접속 시도\n",
      "5. 데이터 송 / 수신\n",
      "6. 접속 종료\n"
     ]
    }
   ],
   "source": [
    "import socket\n",
    "print('1. 소켓 생성')\n",
    "# TCP\n",
    "sock = socket.socket(socket.AF_INET, socket.SOCK_STREAM)\n",
    "\n",
    "print('3. 접속 시도')\n",
    "sock.connect(('127.0.0.1', 12000))\n",
    "\n",
    "print('5. 데이터 송 / 수신')\n",
    "sock.sendall('Hello socket programming'.encode())\n",
    "\n",
    "print('6. 접속 종료')\n",
    "sock.close()"
   ]
  }
 ],
 "metadata": {
  "kernelspec": {
   "display_name": "inaction",
   "language": "python",
   "name": "inaction"
  },
  "language_info": {
   "codemirror_mode": {
    "name": "ipython",
    "version": 3
   },
   "file_extension": ".py",
   "mimetype": "text/x-python",
   "name": "python",
   "nbconvert_exporter": "python",
   "pygments_lexer": "ipython3",
   "version": "3.9.1"
  }
 },
 "nbformat": 4,
 "nbformat_minor": 5
}
