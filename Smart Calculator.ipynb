{
 "cells": [
  {
   "cell_type": "code",
   "execution_count": 7,
   "id": "authorized-pakistan",
   "metadata": {},
   "outputs": [
    {
     "name": "stdout",
     "output_type": "stream",
     "text": [
      "계산식을 입력하세요 > 1+ 1 *    3\n",
      "['2', '*', '    3']\n",
      "['6']\n",
      "결과 6.0\n",
      "계산식을 입력하세요 > exit\n"
     ]
    }
   ],
   "source": [
    "# 5 + 5 * 10인경우 앞에서부터 입력한 순서대로 계산 --> (5+5)*10\n",
    "\n",
    "operator = ['+', '-', '*', '/', '=']\n",
    "\n",
    "def smart_calculator(user_input, show_histroy=False):\n",
    "    string_list = []\n",
    "    lop = 0\n",
    "\n",
    "    # 마지막에 임시로 =를 부여하여 마지막 피연산자까지 배열에 추가한다.\n",
    "    # 5 + 5 * 10인 경우 10은 뒤에 연산자가 없기 때문에, list에 추가가 안된다. --> 5 + 5 * 10 =\n",
    "    if user_input[-1] not in operator:\n",
    "        user_input += '='\n",
    "\n",
    "    for i, s in enumerate(user_input):\n",
    "        if s in operator:\n",
    "            if user_input[lop:i].strip() != '':\n",
    "                # 공백이 아닌경우 피연산가 추가\n",
    "                string_list.append(user_input[lop:i])\n",
    "                # 연산자 추가\n",
    "                string_list.append(s)\n",
    "                # 루프의 인덱스를 마지막 연산자 + 1부터 시작하도록 지정\n",
    "                lop = i + 1\n",
    "\n",
    "    # 임시로 추가한 = 제거\n",
    "    string_list = string_list[:-1]\n",
    "    #print(string_list)\n",
    "\n",
    "    # ['100', '+', '200 ', '-', ' 300 ', '/', ' 200']\n",
    "    pos = 0\n",
    "    while True:\n",
    "        if pos + 1 > len(string_list):\n",
    "            break\n",
    "        # 다음 연산한 값이 존재하며       현재값이 연산자인 경우    \n",
    "        if len(string_list) > pos + 1 and string_list[pos] in operator:\n",
    "            # 이전값 + 연산자 + 다음값\n",
    "            temp = string_list[pos-1] + string_list[pos] + string_list[pos+1]\n",
    "            # temp에 저장한 값은 제거\n",
    "            del string_list[0:3]\n",
    "            # insert 0하여 삭제한 자리 (맨 앞)에 추가, append하면 맨 뒤로 추가됨\n",
    "            string_list.insert(0, str(eval(temp)))\n",
    "            pos = 0\n",
    "            \n",
    "            # Show Histroy\n",
    "            if show_histroy:\n",
    "                print(string_list)\n",
    "        pos += 1\n",
    "        #print(string_list)\n",
    "\n",
    "    if len(string_list) > 0:\n",
    "        result = float(string_list[0])\n",
    "    return round(result,4)\n",
    "\n",
    "while True:\n",
    "    user_input = input('계산식을 입력하세요 > ')\n",
    "    if user_input == 'exit':\n",
    "        break\n",
    "    result = smart_calculator(user_input, show_histroy=True)\n",
    "    print(f'결과 {result}')\n",
    "            \n",
    "            "
   ]
  }
 ],
 "metadata": {
  "kernelspec": {
   "display_name": "inaction",
   "language": "python",
   "name": "inaction"
  },
  "language_info": {
   "codemirror_mode": {
    "name": "ipython",
    "version": 3
   },
   "file_extension": ".py",
   "mimetype": "text/x-python",
   "name": "python",
   "nbconvert_exporter": "python",
   "pygments_lexer": "ipython3",
   "version": "3.9.1"
  }
 },
 "nbformat": 4,
 "nbformat_minor": 5
}
