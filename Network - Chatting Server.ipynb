{
 "cells": [
  {
   "cell_type": "code",
   "execution_count": null,
   "id": "contemporary-bottle",
   "metadata": {},
   "outputs": [
    {
     "name": "stdout",
     "output_type": "stream",
     "text": [
      "('127.0.0.1', 52050)\n",
      "현재 1명 참여중\n"
     ]
    },
    {
     "name": "stderr",
     "output_type": "stream",
     "text": [
      "----------------------------------------\n",
      "Exception occurred during processing of request from ('127.0.0.1', 52050)\n",
      "Traceback (most recent call last):\n",
      "  File \"C:\\Users\\ysn65\\anaconda3\\envs\\inaction\\lib\\socketserver.py\", line 650, in process_request_thread\n",
      "    self.finish_request(request, client_address)\n",
      "  File \"C:\\Users\\ysn65\\anaconda3\\envs\\inaction\\lib\\socketserver.py\", line 360, in finish_request\n",
      "    self.RequestHandlerClass(request, client_address, self)\n",
      "  File \"C:\\Users\\ysn65\\anaconda3\\envs\\inaction\\lib\\socketserver.py\", line 720, in __init__\n",
      "    self.handle()\n",
      "  File \"<ipython-input-1-7a58432fbf6c>\", line 23, in handle\n",
      "    self.send_all_message(f'[{nickname}] 님이 입장 했습니다.')\n",
      "  File \"<ipython-input-1-7a58432fbf6c>\", line 8, in send_all_message\n",
      "    sock.send(msg.encode())\n",
      "NameError: name 'sock' is not defined\n",
      "----------------------------------------\n"
     ]
    },
    {
     "name": "stdout",
     "output_type": "stream",
     "text": [
      "('127.0.0.1', 52056)\n",
      "현재 2명 참여중\n"
     ]
    },
    {
     "name": "stderr",
     "output_type": "stream",
     "text": [
      "----------------------------------------\n",
      "Exception occurred during processing of request from ('127.0.0.1', 52056)\n",
      "Traceback (most recent call last):\n",
      "  File \"C:\\Users\\ysn65\\anaconda3\\envs\\inaction\\lib\\socketserver.py\", line 650, in process_request_thread\n",
      "    self.finish_request(request, client_address)\n",
      "  File \"C:\\Users\\ysn65\\anaconda3\\envs\\inaction\\lib\\socketserver.py\", line 360, in finish_request\n",
      "    self.RequestHandlerClass(request, client_address, self)\n",
      "  File \"C:\\Users\\ysn65\\anaconda3\\envs\\inaction\\lib\\socketserver.py\", line 720, in __init__\n",
      "    self.handle()\n",
      "  File \"<ipython-input-1-7a58432fbf6c>\", line 23, in handle\n",
      "    self.send_all_message(f'[{nickname}] 님이 입장 했습니다.')\n",
      "  File \"<ipython-input-1-7a58432fbf6c>\", line 8, in send_all_message\n",
      "    sock.send(msg.encode())\n",
      "NameError: name 'sock' is not defined\n",
      "----------------------------------------\n"
     ]
    }
   ],
   "source": [
    "import socketserver\n",
    "\n",
    "class MyHandler(socketserver.BaseRequestHandler):\n",
    "    user_name = {}\n",
    "    \n",
    "    def send_all_message(self, msg):\n",
    "        for socl, _ in self.user_name.values():\n",
    "            sock.send(msg.encode())\n",
    "    \n",
    "    \n",
    "    def handle(self):\n",
    "        print(self.client_address)\n",
    "        \n",
    "        while True:\n",
    "            self.request.send('채팅 닉네임을 입력하세요: '.encode())\n",
    "            nickname = self.request.recv(1024).decode()\n",
    "\n",
    "            if nickname in self.user_name:\n",
    "                self.request.send('이미 등록된 닉네임 입니다.\\n'.encode())\n",
    "            else:\n",
    "                self.user_name[nickname] = (self.request, self.client_address)\n",
    "                print(f'현재 {len(self.user_name)}명 참여중')\n",
    "                self.send_all_message(f'[{nickname}] 님이 입장 했습니다.')\n",
    "                break\n",
    "        \n",
    "        while True:\n",
    "            msg = self.request.recv(1024)\n",
    "            if msg.decode() == '/bye':\n",
    "                self.request.close()\n",
    "                break\n",
    "            self.send_all_message(f'[{user_name}]: {msg.deocde()}')\n",
    "            \n",
    "        \n",
    "        if nickname in self.user_name:\n",
    "            del self.user_name[nickname]\n",
    "            self.send_all_message(f'[{user_name}] 님이 퇴장하셨습니다.')\n",
    "            print(f'현재 {len(self.user_name)}명 참여중')\n",
    "        \n",
    "        \n",
    "class ChatServer(socketserver.ThreadingMixIn, socketserver.TCPServer):\n",
    "    pass\n",
    "\n",
    "#                        12000은 listen하고 있는 포트이다\n",
    "#  실제 Client와 연결되는 포트는 다른 번호이며, 연결이 된 후 12000는 다시 대기하면서\n",
    "#  연결된 포트를 새로 지정해 준다.\n",
    "#  만약, Client와 12000 포트를 통해 연결해버린다면 다음 연결을 실행할 수 없게 된다.\n",
    "server = ChatServer(('', 12000), MyHandler)\n",
    "server.serve_forever()\n",
    "server.shutdown()\n",
    "server.server_close()"
   ]
  }
 ],
 "metadata": {
  "kernelspec": {
   "display_name": "inaction",
   "language": "python",
   "name": "inaction"
  },
  "language_info": {
   "codemirror_mode": {
    "name": "ipython",
    "version": 3
   },
   "file_extension": ".py",
   "mimetype": "text/x-python",
   "name": "python",
   "nbconvert_exporter": "python",
   "pygments_lexer": "ipython3",
   "version": "3.9.1"
  }
 },
 "nbformat": 4,
 "nbformat_minor": 5
}
