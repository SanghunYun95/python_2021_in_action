{
 "cells": [
  {
   "cell_type": "code",
   "execution_count": 1,
   "id": "sexual-cause",
   "metadata": {},
   "outputs": [
    {
     "data": {
      "text/plain": [
       "0"
      ]
     },
     "execution_count": 1,
     "metadata": {},
     "output_type": "execute_result"
    }
   ],
   "source": [
    "from PyQt5 import QtWidgets\n",
    "from PyQt5 import QtCore\n",
    "\n",
    "class MyClock(QtWidgets.QWidget):\n",
    "    def __init__(self):\n",
    "        super().__init__()\n",
    "        \n",
    "        self.mouseClick = False\n",
    "        \n",
    "        self.setWindowTitle('시계')\n",
    "        self.initWidgets()\n",
    "        self.setFixedSize(250, 100)\n",
    "        self.setWindowFlags(QtCore.Qt.FramelessWindowHint)\n",
    "        self.show()\n",
    "        \n",
    "    def keyPressEvent(self, e):\n",
    "        if e.key() == QtCore.Qt.Key_Escape: # ESC 눌러 종료\n",
    "            self.close()\n",
    "    \n",
    "    def mousePressEvent(self, e):\n",
    "        if e.button() == QtCore.Qt.LeftButton:\n",
    "            self.mouseClick = True\n",
    "            #             (globalX, globalY)\n",
    "            self.oldPos = e.globalPos()\n",
    "            print(self.oldPos)\n",
    "            \n",
    "    def mouseMoveEvent(self, e):\n",
    "        if self.mouseClick:\n",
    "            # e.globalPos() --> window 바탕화면을 기준으로한 시계의 왼쪽 상단 꼭지점 좌표\n",
    "            # oldPos() --> 마우스를 누르고 있는 동안 (mousePressEvent)의 좌표\n",
    "            QtCore.QPoint(e.globalPos() - self.oldPos)\n",
    "            self.move(self.x() + delta.x(), self.y() + delta.y())\n",
    "            self.oldPos = e.globalPos()\n",
    "            print(self.oldPos)\n",
    "            \n",
    "    def initWidgets(self):\n",
    "        self.layout = QtWidgets.QVBoxLayout()\n",
    "        self.lcd = QtWidgets.QLCDNumber()\n",
    "        self.lcd.setSegmentStyle(QtWidgets.QLCDNumber.Flat)\n",
    "        self.lcd.setDigitCount(8)\n",
    "        self.lcd.setFrameStyle(QtWidgets.QFrame.NoFrame)\n",
    "        \n",
    "        self.timer = QtCore.QTimer()\n",
    "        self.timer.timeout.connect(self.show_time)\n",
    "        # 1초마다 호출\n",
    "        self.timer.start(1000)\n",
    "        \n",
    "        # 처음에 시작하자마자 00으로 뜨는것을 방지하기 위해 강제로 처름 실행\n",
    "        self.show_time()\n",
    "        \n",
    "        self.layout.addWidget(self.lcd)\n",
    "        self.setLayout(self.layout)\n",
    "        \n",
    "    def show_time(self):\n",
    "        time = QtCore.QTime.currentTime()\n",
    "        self.currentTime = time.toString('hh:mm:ss')\n",
    "        self.lcd.display(self.currentTime)\n",
    "        \n",
    "app = QtWidgets.QApplication([])\n",
    "win = MyClock()\n",
    "app.exec_()"
   ]
  }
 ],
 "metadata": {
  "kernelspec": {
   "display_name": "inaction",
   "language": "python",
   "name": "inaction"
  },
  "language_info": {
   "codemirror_mode": {
    "name": "ipython",
    "version": 3
   },
   "file_extension": ".py",
   "mimetype": "text/x-python",
   "name": "python",
   "nbconvert_exporter": "python",
   "pygments_lexer": "ipython3",
   "version": "3.9.1"
  }
 },
 "nbformat": 4,
 "nbformat_minor": 5
}
