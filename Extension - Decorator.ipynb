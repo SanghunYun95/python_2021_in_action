{
 "cells": [
  {
   "cell_type": "code",
   "execution_count": 2,
   "id": "forbidden-mining",
   "metadata": {},
   "outputs": [
    {
     "name": "stdout",
     "output_type": "stream",
     "text": [
      "함수 test1 동작시간: 0.5470855236053467\n",
      "함수 test2 동작시간: 0.32887959480285645\n"
     ]
    }
   ],
   "source": [
    "import time\n",
    "\n",
    "def time_checker(func):\n",
    "    def inner_function(*args, **kwargs):\n",
    "        start_time = time.time()\n",
    "        result = func(*args, **kwargs)\n",
    "        end_time = time.time()\n",
    "        print(f'함수 {func.__name__} 동작시간: {end_time - start_time}')\n",
    "        return result\n",
    "    return inner_function\n",
    "\n",
    "@time_checker\n",
    "def test1():\n",
    "    for i in range(5):\n",
    "        time.sleep(0.1)\n",
    "        \n",
    "@time_checker\n",
    "def test2():\n",
    "    for i in range(3):\n",
    "        time.sleep(0.1)\n",
    "        \n",
    "test1()\n",
    "test2()"
   ]
  },
  {
   "cell_type": "code",
   "execution_count": 7,
   "id": "finished-limit",
   "metadata": {},
   "outputs": [
    {
     "name": "stdout",
     "output_type": "stream",
     "text": [
      "None\n",
      "inner_function\n"
     ]
    },
    {
     "data": {
      "text/plain": [
       "'로그인이 필요한 페이지 입니다.'"
      ]
     },
     "execution_count": 7,
     "metadata": {},
     "output_type": "execute_result"
    }
   ],
   "source": [
    "def login_required(func):\n",
    "    def inner_function(*args, **kwargs):\n",
    "        if not kwargs.get('is_login'):\n",
    "            return '로그인이 필요한 페이지 입니다.'\n",
    "        return func(*args, **kwargs)\n",
    "    return inner_function\n",
    "\n",
    "\n",
    "@login_required\n",
    "def login():\n",
    "    '''\n",
    "    로그인 테스트 함수입니다.\n",
    "    '''\n",
    "    print('안녕')\n",
    "    \n",
    "print(login.__doc__ )   # 문제점 : __doc__이 사라져 버린다.\n",
    "print(login.__name__)   # 문제점 : 데코레이터의 이름이 나온다.\n",
    "login()"
   ]
  },
  {
   "cell_type": "code",
   "execution_count": 1,
   "id": "encouraging-crawford",
   "metadata": {},
   "outputs": [
    {
     "name": "stdout",
     "output_type": "stream",
     "text": [
      "\n",
      "    로그인 테스트 함수입니다.\n",
      "    \n",
      "login2\n"
     ]
    },
    {
     "data": {
      "text/plain": [
       "'로그인이 필요한 페이지 입니다.'"
      ]
     },
     "execution_count": 1,
     "metadata": {},
     "output_type": "execute_result"
    }
   ],
   "source": [
    "from functools import wraps\n",
    "\n",
    "def login_required2(func):\n",
    "    @wraps(func)  # 넘어온 파라미터를 보존한다.\n",
    "    def inner_function2(*args, **kwargs):\n",
    "        if not kwargs.get('is_login'):\n",
    "            return '로그인이 필요한 페이지 입니다.'\n",
    "        return func(*args, **kwargs)\n",
    "    return inner_function2\n",
    "\n",
    "\n",
    "@login_required2\n",
    "def login2():\n",
    "    '''\n",
    "    로그인 테스트 함수입니다.\n",
    "    '''\n",
    "    print('안녕')\n",
    "    \n",
    "print(login2.__doc__ )   \n",
    "print(login2.__name__)   \n",
    "login2()"
   ]
  }
 ],
 "metadata": {
  "kernelspec": {
   "display_name": "inaction",
   "language": "python",
   "name": "inaction"
  },
  "language_info": {
   "codemirror_mode": {
    "name": "ipython",
    "version": 3
   },
   "file_extension": ".py",
   "mimetype": "text/x-python",
   "name": "python",
   "nbconvert_exporter": "python",
   "pygments_lexer": "ipython3",
   "version": "3.9.1"
  }
 },
 "nbformat": 4,
 "nbformat_minor": 5
}
