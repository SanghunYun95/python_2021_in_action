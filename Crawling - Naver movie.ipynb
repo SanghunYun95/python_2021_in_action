{
 "cells": [
  {
   "cell_type": "code",
   "execution_count": 2,
   "id": "supported-installation",
   "metadata": {},
   "outputs": [],
   "source": [
    "import requests\n",
    "from bs4 import BeautifulSoup\n",
    "import pandas\n",
    "\n",
    "def get_movie_info(start, end):\n",
    "    \n",
    "    results = []\n",
    "    \n",
    "    for i in range(start, end+1):\n",
    "        url=f'https://movie.naver.com/movie/point/af/list.nhn?page={i}'\n",
    "        r = requests.get(url)\n",
    "        bs = BeautifulSoup(r.text, 'lxml')\n",
    "\n",
    "        trs = bs.select('table.list_netizen > tbody > tr')\n",
    "        for tr in trs:\n",
    "            tds = tr.select('td')\n",
    "            #if len(tds) != 5:\n",
    "            #    continue\n",
    "            number = tds[0].text\n",
    "            point = tds[1].select('em')[0].text\n",
    "            movie = tds[1].select('a')[0].text\n",
    "            #writer = tds[2].select('a')[0].text\n",
    "            date = tds[2].text\n",
    "\n",
    "#             results.append({\n",
    "#                 'number': number,\n",
    "#                 'movie': movie,\n",
    "#                 'point': point,\n",
    "#                 'date': date\n",
    "#             })\n",
    "\n",
    "            # pandas는 리스트를 처리\n",
    "            results.append([movie, point, date])\n",
    "    return results\n",
    "\n",
    "column = ['영화제목', '평점', '작성자 & 날짜']\n",
    "results = get_movie_info(1, 3)\n",
    "\n",
    "dataframe = pandas.DataFrame(results, columns=column)\n",
    "#print(dataframe)\n",
    "\n",
    "# Excel로 저장\n",
    "dataframe.to_excel('movie.xlsx', sheet_name='Naver Movie', header=True, startrow=1)\n"
   ]
  }
 ],
 "metadata": {
  "kernelspec": {
   "display_name": "inaction",
   "language": "python",
   "name": "inaction"
  },
  "language_info": {
   "codemirror_mode": {
    "name": "ipython",
    "version": 3
   },
   "file_extension": ".py",
   "mimetype": "text/x-python",
   "name": "python",
   "nbconvert_exporter": "python",
   "pygments_lexer": "ipython3",
   "version": "3.9.1"
  }
 },
 "nbformat": 4,
 "nbformat_minor": 5
}
