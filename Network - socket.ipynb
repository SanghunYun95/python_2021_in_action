{
 "cells": [
  {
   "cell_type": "markdown",
   "id": "owned-retirement",
   "metadata": {},
   "source": [
    "### 1. 소켓 생성\n",
    "### 2. 바인딩\n",
    "### 3. 접속 대기\n",
    "### 4. 접속 수락\n",
    "### 5. 데이터 송 / 수신\n",
    "### 6. 접속 종료"
   ]
  },
  {
   "cell_type": "code",
   "execution_count": 2,
   "id": "senior-lawsuit",
   "metadata": {},
   "outputs": [
    {
     "name": "stdout",
     "output_type": "stream",
     "text": [
      "1. 소켓 생성\n",
      "2. 바인딩\n",
      "3. 접속 대기\n",
      "4. 접속 수락\n",
      "5. 데이터 송 / 수신\n",
      "수신된 데이터: b'Hello socket programming'\n",
      "6. 접속 종료\n"
     ]
    }
   ],
   "source": [
    "import socket\n",
    "print('1. 소켓 생성')\n",
    "# TCP\n",
    "sock = socket.socket(socket.AF_INET, socket.SOCK_STREAM)\n",
    "\n",
    "print('2. 바인딩')\n",
    "# 12000 port\n",
    "sock.bind(('', 12000))\n",
    "\n",
    "print('3. 접속 대기')\n",
    "sock.listen()\n",
    "\n",
    "print('4. 접속 수락')\n",
    "c_sock, addr = sock.accept()\n",
    "\n",
    "print('5. 데이터 송 / 수신')\n",
    "# 1024 만큼의 데이터만 받음\n",
    "receive_data = c_sock.recv(1024)\n",
    "print(f'수신된 데이터: {receive_data}')\n",
    "\n",
    "print('6. 접속 종료')\n",
    "c_sock.close()\n",
    "sock.close()"
   ]
  }
 ],
 "metadata": {
  "kernelspec": {
   "display_name": "inaction",
   "language": "python",
   "name": "inaction"
  },
  "language_info": {
   "codemirror_mode": {
    "name": "ipython",
    "version": 3
   },
   "file_extension": ".py",
   "mimetype": "text/x-python",
   "name": "python",
   "nbconvert_exporter": "python",
   "pygments_lexer": "ipython3",
   "version": "3.9.1"
  }
 },
 "nbformat": 4,
 "nbformat_minor": 5
}
