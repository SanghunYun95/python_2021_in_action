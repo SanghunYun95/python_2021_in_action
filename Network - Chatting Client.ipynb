{
 "cells": [
  {
   "cell_type": "code",
   "execution_count": null,
   "id": "current-growth",
   "metadata": {},
   "outputs": [],
   "source": [
    "import socket\n",
    "from threading import Thread\n",
    "\n",
    "def recv_message(sock):\n",
    "    while True:\n",
    "        msg = sock.recv(1024)\n",
    "        print(msg.decode())\n",
    "        \n",
    "sock = socket.socket(socket.AF_INET, socket.SOCK_STREAM)\n",
    "sock.connect(('127.0.0.1', 12000))\n",
    "\n",
    "th = Thread(target=recv_message, args=(sock, ))\n",
    "th.daemon = True\n",
    "th.start() \n",
    "\n",
    "while True:\n",
    "    msg = input('입력: ')\n",
    "    sock.send(msg.encode())\n",
    "    \n",
    "    if msg == '/bye':\n",
    "        break\n",
    "sock.close()"
   ]
  }
 ],
 "metadata": {
  "kernelspec": {
   "display_name": "inaction",
   "language": "python",
   "name": "inaction"
  },
  "language_info": {
   "codemirror_mode": {
    "name": "ipython",
    "version": 3
   },
   "file_extension": ".py",
   "mimetype": "text/x-python",
   "name": "python",
   "nbconvert_exporter": "python",
   "pygments_lexer": "ipython3",
   "version": "3.9.1"
  }
 },
 "nbformat": 4,
 "nbformat_minor": 5
}
