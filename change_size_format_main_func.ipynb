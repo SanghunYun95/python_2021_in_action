{
 "cells": [
  {
   "cell_type": "code",
   "execution_count": null,
   "id": "handy-genome",
   "metadata": {},
   "outputs": [],
   "source": [
    "# Image_Change_Size_Format     main function\n",
    "from Image_Chage_Size_Format import MyImage\n",
    "import argparse\n",
    "\n",
    "p = argparse.ArgumentParser()\n",
    "p.add_argument('-f', type=str)\n",
    "p.add_argument('-e', type=str)\n",
    "p.add_argument('-r', action='store_ture')\n",
    "p.add_argument('-rw', type=int, default=500)\n",
    "p.add_argument('-rh', type=int, default=500)\n",
    "args = p.parse_args()\n",
    "\n",
    "if args.f and (args.e or args.r):\n",
    "    myimg = MyImage(\n",
    "        folder=args.f,\n",
    "        ext=args.e,\n",
    "        resize=args.r,\n",
    "        r_width=args.rw,\n",
    "        r_height=args.rh\n",
    "    )\n",
    "    cnt_resize, cnt_ext = myimg.start()\n",
    "    print(f'리사이즈: {cnt_resize}, 포멧변경: {cnt_ext}')\n",
    "else:\n",
    "    print(f'사용법: 파일실행 -f <대상폴더> -e <변경될확장자> -r [리사이즈] -rw 500 -rh 500')"
   ]
  }
 ],
 "metadata": {
  "kernelspec": {
   "display_name": "inaction",
   "language": "python",
   "name": "inaction"
  },
  "language_info": {
   "codemirror_mode": {
    "name": "ipython",
    "version": 3
   },
   "file_extension": ".py",
   "mimetype": "text/x-python",
   "name": "python",
   "nbconvert_exporter": "python",
   "pygments_lexer": "ipython3",
   "version": "3.9.1"
  }
 },
 "nbformat": 4,
 "nbformat_minor": 5
}
