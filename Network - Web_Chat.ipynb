{
 "cells": [
  {
   "cell_type": "code",
   "execution_count": 6,
   "id": "classified-sixth",
   "metadata": {},
   "outputs": [
    {
     "name": "stderr",
     "output_type": "stream",
     "text": [
      "WebSocket transport not available. Install eventlet or gevent and gevent-websocket for improved performance.\n"
     ]
    },
    {
     "name": "stdout",
     "output_type": "stream",
     "text": [
      " * Serving Flask app \"__main__\" (lazy loading)\n",
      " * Environment: production\n",
      "   WARNING: This is a development server. Do not use it in a production deployment.\n",
      "   Use a production WSGI server instead.\n",
      " * Debug mode: on\n"
     ]
    },
    {
     "name": "stderr",
     "output_type": "stream",
     "text": [
      " * Restarting with stat\n"
     ]
    },
    {
     "ename": "SystemExit",
     "evalue": "1",
     "output_type": "error",
     "traceback": [
      "An exception has occurred, use %tb to see the full traceback.\n",
      "\u001b[1;31mSystemExit\u001b[0m\u001b[1;31m:\u001b[0m 1\n"
     ]
    }
   ],
   "source": [
    "from flask import Flask\n",
    "from flask import render_template\n",
    "from flask_socketio import SocketIO\n",
    "\n",
    "app = Flask(__name__)\n",
    "socketio = SocketIO(app)\n",
    "\n",
    "@app.route('/')\n",
    "def index():\n",
    "    return render_template('./flaskIndex.html')\n",
    "\n",
    "@socketio.on('connected')\n",
    "def connect_handler():\n",
    "    socketio.emit('response', {'nickname': '', 'message': '새로운 유저 입장'})\n",
    "    \n",
    "@socketio.on('chat')    \n",
    "def event_handler(json):\n",
    "    # JSON 통신에서 JSON Object가 Latin1로 변환된다.\n",
    "    json['nickname'] = json['nickname'].encode('latin1').decode('utf-8')\n",
    "    json['message'] = json['message'].encode('latin1').decode('utf-8')\n",
    "    \n",
    "    socketio.emit('response', {'nickname': json['nickname'], 'message': json['message']});\n",
    "    \n",
    "    \n",
    "if __name__ == '__main__':\n",
    "    socketio.run(app, host='0.0.0.0', port=14000, debug=True)"
   ]
  }
 ],
 "metadata": {
  "kernelspec": {
   "display_name": "inaction",
   "language": "python",
   "name": "inaction"
  },
  "language_info": {
   "codemirror_mode": {
    "name": "ipython",
    "version": 3
   },
   "file_extension": ".py",
   "mimetype": "text/x-python",
   "name": "python",
   "nbconvert_exporter": "python",
   "pygments_lexer": "ipython3",
   "version": "3.9.1"
  }
 },
 "nbformat": 4,
 "nbformat_minor": 5
}
