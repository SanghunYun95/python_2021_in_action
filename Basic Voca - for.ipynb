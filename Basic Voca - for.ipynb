{
 "cells": [
  {
   "cell_type": "code",
   "execution_count": 5,
   "id": "czech-workshop",
   "metadata": {},
   "outputs": [
    {
     "name": "stdout",
     "output_type": "stream",
     "text": [
      "1- 이름: 홍길동: 점수: 100\n",
      "2- 이름: 가제트: 점수: 200\n",
      "3- 이름: 가가멜: 점수: 300\n"
     ]
    }
   ],
   "source": [
    "# for문을 돌 때 index 값을 사용하려면\n",
    "\n",
    "student = [{'홍길동': 100}, {'가제트': 200}, {'가가멜': 300}]\n",
    "\n",
    "for i, val in enumerate(student, start=1): # index를 1부터 시작\n",
    "    data = (list(val.items())[0])\n",
    "    name = data[0]\n",
    "    value = data[1]\n",
    "    print(f\"{i}- 이름: {name}: 점수: {value}\")\n",
    "    "
   ]
  },
  {
   "cell_type": "code",
   "execution_count": 6,
   "id": "phantom-giant",
   "metadata": {},
   "outputs": [
    {
     "name": "stdout",
     "output_type": "stream",
     "text": [
      "[7, 9, 11, 13]\n"
     ]
    }
   ],
   "source": [
    "# List Comprehension with a Condition\n",
    "result = [num + 5 for num in range(1, 10) if num % 2 == 0]\n",
    "print(result)"
   ]
  },
  {
   "cell_type": "code",
   "execution_count": null,
   "id": "permanent-saudi",
   "metadata": {},
   "outputs": [],
   "source": []
  }
 ],
 "metadata": {
  "kernelspec": {
   "display_name": "inaction",
   "language": "python",
   "name": "inaction"
  },
  "language_info": {
   "codemirror_mode": {
    "name": "ipython",
    "version": 3
   },
   "file_extension": ".py",
   "mimetype": "text/x-python",
   "name": "python",
   "nbconvert_exporter": "python",
   "pygments_lexer": "ipython3",
   "version": "3.9.1"
  }
 },
 "nbformat": 4,
 "nbformat_minor": 5
}
