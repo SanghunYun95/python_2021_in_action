{
 "cells": [
  {
   "cell_type": "code",
   "execution_count": 2,
   "id": "thrown-request",
   "metadata": {},
   "outputs": [
    {
     "name": "stdout",
     "output_type": "stream",
     "text": [
      "[('Apple Pencil (2nd Generation) Stylus for iPad $104 + Free Shipping', 'https://slickdeals.net/f/14828512-apple-pencil-2nd-generation-stylus-for-ipad-104-free-shipping?src=SiteSearchV2_SearchBarV2Algo1', 104.0, 0), ('ZAGG Messenger Folio Tablet Keyboard & Case for 11\" Apple iPad Pro $18 + Free Shipping', 'https://slickdeals.net/f/14840521-zagg-messenger-folio-bluetooth-apple-ipad-pro-11-tablet-keyboard-and-case-17-99-ac-fsss?src=SiteSearchV2_SearchBarV2Algo1', 18.0, 0), ('Apple Magic Keyboard for 11\" iPad Pro (2nd Gen) $199 + Free Shipping', 'https://slickdeals.net/f/14784523-apple-magic-keyboard-for-11-ipad-pro-2nd-gen-199-free-shipping?src=SiteSearchV2_SearchBarV2Algo1', 199.0, 1), ('Best Buy - Apple iPad Air 4th Gen - 64GB $549.99', 'https://slickdeals.net/f/14842138-best-buy-apple-ipad-air-4th-gen-64gb-549-99?src=SiteSearchV2_SearchBarV2Algo1', 549.99, 0), ('Exercise Bike 18lb Flywheel With Ipad Mount + Padded Seat Cushion $149.97', 'https://slickdeals.net/f/14840011-exercise-bike-18lb-flywheel-with-ipad-mount-padded-seat-cushion-149-97?src=SiteSearchV2_SearchBarV2Algo1', 149.97, 0), ('*Military/Vets only* AAFES $150 off Ipad Air 64gb Macbook Air Imac starting 26Feb $449', 'https://slickdeals.net/f/14847436-military-vets-only-aafes-150-off-ipad-air-64gb-macbook-air-imac-starting-26feb-449?src=SiteSearchV2_SearchBarV2Algo1', 449.0, 0), ('Apple Magic Keyboard for iPad Air (4th Generation) and iPad Pro 11-inch (2nd Generation) - US English - $199', 'https://slickdeals.net/f/14838169-apple-magic-keyboard-for-ipad-air-4th-generation-and-ipad-pro-11-inch-2nd-generation-us-english-199?src=SiteSearchV2_SearchBarV2Algo1', 199.0, 0), ('Apple Magic Keyboard for iPad Air (4th Generation) and iPad Pro 11-inch (2nd Generation) - US English - $199', 'https://slickdeals.net/f/14831065-apple-magic-keyboard-for-ipad-air-4th-generation-and-ipad-pro-11-inch-2nd-generation-us-english-199?src=SiteSearchV2_SearchBarV2Algo1', 199.0, 0), ('Target - Apple Smart Keyboard 11\" IPAD Pro - YMMV $53.99', 'https://slickdeals.net/f/14792209-target-apple-smart-keyboard-11-ipad-pro-ymmv-53-99?src=SiteSearchV2_SearchBarV2Algo1', 53.99, 0), ('Exercise Bike with Ipad Mount ＆ Comfortable Cushion Seat $179.97', 'https://slickdeals.net/f/14796703-exercise-bike-with-ipad-mount-comfortable-cushion-seat-179-97?src=SiteSearchV2_SearchBarV2Algo1', 179.97, 0), ('Apple Magic Keyboard for iPad Air (4th Generation) and iPad Pro 11-inch (2nd Generation) - US English - $199', 'https://slickdeals.net/f/14791171-apple-magic-keyboard-for-ipad-air-4th-generation-and-ipad-pro-11-inch-2nd-generation-us-english-199?src=SiteSearchV2_SearchBarV2Algo1', 199.0, 0), ('Apple Smart Folio (for 10.9-inch iPad Air - 4th Generation) - $39 white only', 'https://slickdeals.net/f/14838604-apple-smart-folio-for-10-9-inch-ipad-air-4th-generation-39-white-only?src=SiteSearchV2_SearchBarV2Algo1', 39.0, 0), ('Apple® Leather Sleeve for 10.5\" iPad Pro - $38.70', 'https://slickdeals.net/f/14806840-apple-leather-sleeve-for-10-5-ipad-pro-38-70?src=SiteSearchV2_SearchBarV2Algo1', 38.7, 0), ('Apple Magic Keyboard for 11-inch iPad Pro (2nd generation) - US English - Walmart.com - $199', 'https://slickdeals.net/f/14831191-apple-magic-keyboard-for-11-inch-ipad-pro-2nd-generation-us-english-walmart-com-199?src=SiteSearchV2_SearchBarV2Algo1', 199.0, 0), ('Jamjake Stylus Pen for iPad with Palm Rejection (for 2018-2020 iPad Pro & More) $18.70 + Free Shipping', 'https://slickdeals.net/f/14842408-stylus-pen-for-ipad-with-palm-rejection-active-pencil-compatible-with-2018-2020-apple-ipad-pro-11-12-9-inch-ipad-6th-7th-gen-ipad-mini-5th-gen-ipad-air-3rd-gen-18-69-fs?src=SiteSearchV2_SearchBarV2Algo1', 18.7, 1), ('Incase 16\" Reform 17L Nylon Laptop/Tablet Backpack (Heather Black) $35 + Free Shipping', 'https://slickdeals.net/f/14762965-incase-16-reform-backpack-with-tensaerlite-for-macbook-pro-and-ipad-34-99?src=SiteSearchV2_SearchBarV2Algo1', 35.0, 0), ('Apple 10.2 iPad (7th Gen) Tablet WiFi+4G LTE - $399', 'https://slickdeals.net/e/14751644-apple-10-2-ipad-7th-gen-tablet-wifi-4g-lte-399?src=SiteSearchV2_SearchBarV2Algo1', 399.0, 0), ('Triple-Mode Wireless Bluetooth Mouse for iPad $8.49 + FS w/ Prime', 'https://slickdeals.net/f/14781700-triple-mode-wireless-bluetooth-mouse-for-ipad-8-49-fs-w-prime?src=SiteSearchV2_SearchBarV2Algo1', 8.49, 0)]\n"
     ]
    }
   ],
   "source": [
    "import requests\n",
    "from bs4 import BeautifulSoup\n",
    "\n",
    "def get_hotdeal(keyword):\n",
    "    url = f'https://slickdeals.net/newsearch.php?src=SearchBarV2&q={keyword}&pp=20'\n",
    "    \n",
    "    r = requests.get(url)\n",
    "    bs = BeautifulSoup(r.text, 'lxml')\n",
    "    rows = bs.select('div.resultRow')\n",
    "    \n",
    "    results = []\n",
    "    \n",
    "    for r in rows:\n",
    "        link = r.select('a.dealTitle')[0]\n",
    "        href = link.get('href')\n",
    "        if href is None:\n",
    "            continue\n",
    "        href = 'https://slickdeals.net' + href\n",
    "        title = link.text\n",
    "        price = r.select('span.price')[0].text.replace('$', '').replace('from', '').strip()\n",
    "        if price.find('/') >= 0 or price == '':\n",
    "            continue\n",
    "        price = float(price)\n",
    "        hot = len(r.select('span.icon-fire'))\n",
    "        results.append((title, href, price, hot))\n",
    "    return results\n",
    "\n",
    "print(get_hotdeal('ipad'))\n",
    "        \n",
    "    "
   ]
  }
 ],
 "metadata": {
  "kernelspec": {
   "display_name": "inaction",
   "language": "python",
   "name": "inaction"
  },
  "language_info": {
   "codemirror_mode": {
    "name": "ipython",
    "version": 3
   },
   "file_extension": ".py",
   "mimetype": "text/x-python",
   "name": "python",
   "nbconvert_exporter": "python",
   "pygments_lexer": "ipython3",
   "version": "3.9.1"
  }
 },
 "nbformat": 4,
 "nbformat_minor": 5
}
