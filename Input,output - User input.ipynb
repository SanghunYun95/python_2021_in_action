{
 "cells": [
  {
   "cell_type": "code",
   "execution_count": 1,
   "id": "average-average",
   "metadata": {},
   "outputs": [
    {
     "name": "stdout",
     "output_type": "stream",
     "text": [
      "2 이상의 숫자를 입력하세요> 15\n",
      "[2, 3, 5, 7, 11, 13]\n",
      "소수가 아닙니다.\n"
     ]
    }
   ],
   "source": [
    "# 에라토스테네스의 체 (Sieve of Eratosthenes)\n",
    "\n",
    "while True:\n",
    "    num = input('2 이상의 숫자를 입력하세요> ')\n",
    "    # 숫자가 아니라면\n",
    "    if not num.isnumeric():\n",
    "        continue\n",
    "    # 숫자라면 int로 형변환\n",
    "    num = int(num)\n",
    "    # 2보다 작은 경우\n",
    "    if num < 2:\n",
    "        continue\n",
    "    break\n",
    "    \n",
    "#      0과 1은 False로 세팅    입력한 숫자까지의 값은 True로 세팅     \n",
    "prime_list = [False, False] + [True] * (num - 1)\n",
    "primes = []\n",
    "\n",
    "for i in range(2, num + 1):\n",
    "    if prime_list[i]:\n",
    "                # 어떤 숫자의 배수는 소수가 아니기 때문에 False\n",
    "        for j in range(2 * i, num + 1, i):\n",
    "            prime_list[j] = False\n",
    "            \n",
    "primes = [i for i in range(2, num+1) if prime_list[i] == True]\n",
    "# 입력한 숫자까지의 모든 소수의 배열 출력\n",
    "print(primes)\n",
    "\n",
    "if num in primes:\n",
    "    print('소수 입니다.')\n",
    "else:\n",
    "    print('소수가 아닙니다.')"
   ]
  },
  {
   "cell_type": "code",
   "execution_count": null,
   "id": "pretty-disclosure",
   "metadata": {},
   "outputs": [],
   "source": []
  }
 ],
 "metadata": {
  "kernelspec": {
   "display_name": "inaction",
   "language": "python",
   "name": "inaction"
  },
  "language_info": {
   "codemirror_mode": {
    "name": "ipython",
    "version": 3
   },
   "file_extension": ".py",
   "mimetype": "text/x-python",
   "name": "python",
   "nbconvert_exporter": "python",
   "pygments_lexer": "ipython3",
   "version": "3.9.1"
  }
 },
 "nbformat": 4,
 "nbformat_minor": 5
}
