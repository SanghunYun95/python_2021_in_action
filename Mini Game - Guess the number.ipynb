{
 "cells": [
  {
   "cell_type": "code",
   "execution_count": 3,
   "id": "moderate-precipitation",
   "metadata": {},
   "outputs": [
    {
     "name": "stdout",
     "output_type": "stream",
     "text": [
      "1부터 99까지의 정수를 10번 안에 맞춰 보세요.\n",
      "몇 일까요? 50\n",
      "50보다 작은 수입니다.\n",
      "몇 일까요? 25\n",
      "25보다 작은 수입니다.\n",
      "몇 일까요? 14\n",
      "14보다 큰 수입니다.\n",
      "몇 일까요? 17\n",
      "성공! 4번만에 17를 맞췄습니다.\n"
     ]
    }
   ],
   "source": [
    "# 숫자 맞추기 게임\n",
    "import random\n",
    "import os\n",
    "\n",
    "def input_check(msg, casting=int):\n",
    "    while True:\n",
    "        try:\n",
    "            user_input = casting(input('몇 일까요? '))\n",
    "            return user_input\n",
    "        except:\n",
    "            print('정수를 입력해 주세요.')\n",
    "            continue\n",
    "            \n",
    "chance = 10\n",
    "count = 0\n",
    "\n",
    "number = random.randint(1, 99)\n",
    "os.system('cls') # 콘솔 비우기\n",
    "print('1부터 99까지의 정수를 10번 안에 맞춰 보세요.')\n",
    "\n",
    "while count < chance:\n",
    "    count +=1 \n",
    "    user_input = input_check('몇일까요? \\n현재 남은 도전 횟수는 {count}번 입니다.')\n",
    "    if number == user_input:\n",
    "        break\n",
    "    elif user_input < number:\n",
    "        print(f'{user_input}보다 큰 수입니다.')\n",
    "    elif user_input > number:\n",
    "        print(f'{user_input}보다 작은 수입니다.')\n",
    "\n",
    "if user_input == number:\n",
    "    print(f'성공! {count}번만에 {number}를 맞췄습니다.')\n",
    "else:\n",
    "    print(f'안타깝네요, 정답은 {number}입니다. \\n한번더 도전하세요!')"
   ]
  }
 ],
 "metadata": {
  "kernelspec": {
   "display_name": "inaction",
   "language": "python",
   "name": "inaction"
  },
  "language_info": {
   "codemirror_mode": {
    "name": "ipython",
    "version": 3
   },
   "file_extension": ".py",
   "mimetype": "text/x-python",
   "name": "python",
   "nbconvert_exporter": "python",
   "pygments_lexer": "ipython3",
   "version": "3.9.1"
  }
 },
 "nbformat": 4,
 "nbformat_minor": 5
}
