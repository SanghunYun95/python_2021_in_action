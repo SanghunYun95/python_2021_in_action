{
 "cells": [
  {
   "cell_type": "code",
   "execution_count": 12,
   "id": "stylish-sunrise",
   "metadata": {},
   "outputs": [],
   "source": [
    "class RedBeanGoldFishBread:\n",
    "    def __init__(self, **kwargs):\n",
    "        self._size = 10\n",
    "        self._flavor = '팥'\n",
    "        self._price = 100\n",
    "        if 'size' in kwargs:\n",
    "            self._size = kwargs.get('size')\n",
    "        if 'flavor' in kwargs:\n",
    "            self._flavor = kwargs.get('flavor')\n",
    "        if 'price' in kwargs:\n",
    "            self._price = kwargs.get('price')\n",
    "        print( f'따끈따끈 {self._flavor} 붕어빵')\n",
    "    \n",
    "    def __lt__(self, other):\n",
    "        return self._price <= other._price\n",
    "    \n",
    "    def __del__(self):\n",
    "        print('폐기 되었습니다.')\n",
    "    \n",
    "    def __str__(self):\n",
    "        return f'<class RedBeanGoldFishBread (size={self._size}, price={self._price}, flavor={self._flavor})'\n",
    "    \n",
    "    def show(self):\n",
    "        print(f'붕어빵 종류: {self._flavor}')\n",
    "        print(f'붕어빵 크기: {self._size}')\n",
    "        print(f'붕어빵 가격: {self._price}')\n",
    "        print('*' * 60)"
   ]
  },
  {
   "cell_type": "code",
   "execution_count": 13,
   "id": "unlike-blowing",
   "metadata": {},
   "outputs": [
    {
     "name": "stdout",
     "output_type": "stream",
     "text": [
      "따끈따끈 팥 붕어빵\n",
      "폐기 되었습니다.\n",
      "따끈따끈 팥 붕어빵\n",
      "폐기 되었습니다.\n",
      "따끈따끈 초콜렛 붕어빵\n",
      "폐기 되었습니다.\n",
      "팥 붕어빵은 초콜렛 붕어빵보다 싸다.\n"
     ]
    }
   ],
   "source": [
    "fish1 = RedBeanGoldFishBread()\n",
    "fish2 = RedBeanGoldFishBread(size = 20, price = 300)\n",
    "fish3 = RedBeanGoldFishBread(size = 15, price = 500, flavor = '초콜렛')\n",
    "\n",
    "# 사용을 안해서 메모리 해제\n",
    "\n",
    "\n",
    "if fish1 < fish3:\n",
    "    print('팥 붕어빵은 초콜렛 붕어빵보다 싸다.')"
   ]
  },
  {
   "cell_type": "code",
   "execution_count": 15,
   "id": "crazy-delta",
   "metadata": {},
   "outputs": [
    {
     "name": "stdout",
     "output_type": "stream",
     "text": [
      "따끈따끈 크림 붕어빵\n",
      "폐기 되었습니다.\n",
      "크림 1500\n"
     ]
    }
   ],
   "source": [
    "class MarketGoods(RedBeanGoldFishBread):\n",
    "    def __init__(self, margin=1000, **kwargs):\n",
    "        super().__init__(**kwargs)\n",
    "        self._market_price = self._price + margin\n",
    "    def show(self):\n",
    "        print(self._flavor, self._market_price)\n",
    "        \n",
    "if __name__ == '__main__':\n",
    "fish4 = MarketGoods(size=20, price=500, flavor='크림')\n",
    "fish4.show()"
   ]
  }
 ],
 "metadata": {
  "kernelspec": {
   "display_name": "inaction",
   "language": "python",
   "name": "inaction"
  },
  "language_info": {
   "codemirror_mode": {
    "name": "ipython",
    "version": 3
   },
   "file_extension": ".py",
   "mimetype": "text/x-python",
   "name": "python",
   "nbconvert_exporter": "python",
   "pygments_lexer": "ipython3",
   "version": "3.9.1"
  }
 },
 "nbformat": 4,
 "nbformat_minor": 5
}
