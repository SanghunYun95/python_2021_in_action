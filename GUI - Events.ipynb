{
 "cells": [
  {
   "cell_type": "code",
   "execution_count": null,
   "id": "balanced-checklist",
   "metadata": {},
   "outputs": [],
   "source": [
    "from PyQt5 import QtWidgets\n",
    "\n",
    "class MyApp(QtWidgets.QMainWindow):\n",
    "    def __init__(self):\n",
    "        super().__init__()\n",
    "        self.initUI()\n",
    "        \n",
    "    def initUI(self):\n",
    "        self.setWindowTitle('이벤트 테스트')\n",
    "        self.statusBar = self.statusBar()\n",
    "        self.setMouseTracking(True)\n",
    "        self.setGeometry(300, 300, 300, 300)\n",
    "        self.show()\n",
    "       \n",
    "    # Override\n",
    "    def keyPressEvent(self, e):\n",
    "        output = f'키 눌림 <key: {e.key()}'\n",
    "        self.statusBar.showMessage(output)\n",
    "        \n",
    "    # Override\n",
    "    def keyReleaseEvent(self, e):\n",
    "        output = f'키 뜀 <key: {e.key()}'\n",
    "        self.statusBar.showMessage(output)\n",
    "        \n",
    "    # Override\n",
    "    def mouseDoubleClickEvent(self, e):\n",
    "        button = e.button()\n",
    "        x = e.x()\n",
    "        y = e.y()\n",
    "        gx = e.globalX()\n",
    "        gy = e.globalY()\n",
    "        output = f'마우스 더블클릭 <버튼: {button}, x={x}, y={y}, gx={gx}, gy={gy}'\n",
    "        self.statusBar.showMessage(output)\n",
    "    \n",
    "    # Override\n",
    "    def mouseMoveEvent(self, e):\n",
    "        x = e.x()\n",
    "        y = e.y()\n",
    "        gx = e.globalX()\n",
    "        gy = e.globalY()\n",
    "        output = f'마우스 이동 <x={x}, y={y}, gx={gx}, gy={gy}'\n",
    "        self.statusBar.showMessage(output)\n",
    "    \n",
    "app = QtWidgets.QApplication([])\n",
    "ex = MyApp()\n",
    "app.exec_()\n",
    "        "
   ]
  }
 ],
 "metadata": {
  "kernelspec": {
   "display_name": "inaction",
   "language": "python",
   "name": "inaction"
  },
  "language_info": {
   "codemirror_mode": {
    "name": "ipython",
    "version": 3
   },
   "file_extension": ".py",
   "mimetype": "text/x-python",
   "name": "python",
   "nbconvert_exporter": "python",
   "pygments_lexer": "ipython3",
   "version": "3.9.1"
  }
 },
 "nbformat": 4,
 "nbformat_minor": 5
}
