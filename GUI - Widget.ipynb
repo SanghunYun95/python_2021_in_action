{
 "cells": [
  {
   "cell_type": "code",
   "execution_count": 1,
   "id": "loaded-victory",
   "metadata": {},
   "outputs": [
    {
     "data": {
      "text/plain": [
       "0"
      ]
     },
     "execution_count": 1,
     "metadata": {},
     "output_type": "execute_result"
    }
   ],
   "source": [
    "from PyQt5 import QtWidgets\n",
    "from PyQt5 import QtCore\n",
    "\n",
    "class MyWindows(QtWidgets.QWidget):\n",
    "    def __init__(self):\n",
    "        super().__init__()\n",
    "        self.setWindowTitle('파이썬 GUI')\n",
    "        \n",
    "        label1 = QtWidgets.QLabel('라벨 1', self)\n",
    "        label1.setAlignment(QtCore.Qt.AlignCenter)\n",
    "        label1.resize(60, 25)\n",
    "        \n",
    "        label2 = QtWidgets.QLabel('라벨 2', self)\n",
    "        label2.setAlignment(QtCore.Qt.AlignCenter)\n",
    "        label2.setStyleSheet('color:red; font-size:20px;')\n",
    "        \n",
    "        layout = QtWidgets.QVBoxLayout()\n",
    "        layout.addWidget(label1)\n",
    "        layout.addWidget(label2)\n",
    "        \n",
    "        self.setLayout(layout)\n",
    "        self.show()\n",
    "        \n",
    "app = QtWidgets.QApplication([])\n",
    "win = MyWindows()\n",
    "app.exec_()"
   ]
  }
 ],
 "metadata": {
  "kernelspec": {
   "display_name": "inaction",
   "language": "python",
   "name": "inaction"
  },
  "language_info": {
   "codemirror_mode": {
    "name": "ipython",
    "version": 3
   },
   "file_extension": ".py",
   "mimetype": "text/x-python",
   "name": "python",
   "nbconvert_exporter": "python",
   "pygments_lexer": "ipython3",
   "version": "3.9.1"
  }
 },
 "nbformat": 4,
 "nbformat_minor": 5
}
