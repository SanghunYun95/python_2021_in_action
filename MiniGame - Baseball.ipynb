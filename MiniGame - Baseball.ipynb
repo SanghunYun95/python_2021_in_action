{
 "cells": [
  {
   "cell_type": "code",
   "execution_count": 1,
   "id": "eligible-postage",
   "metadata": {},
   "outputs": [
    {
     "name": "stdout",
     "output_type": "stream",
     "text": [
      "************************************************************\n",
      "야구 게임을 시작합니다!\n",
      "************************************************************\n",
      "숫자 3자리를 입력하세요> 123\n",
      "2 스트라이크\n",
      "숫자 3자리를 입력하세요> 124\n",
      "2 스트라이크\n",
      "숫자 3자리를 입력하세요> 125\n",
      "2 스트라이크\n",
      "숫자 3자리를 입력하세요> 126\n",
      "2 스트라이크\n",
      "숫자 3자리를 입력하세요> 127\n",
      "3 스트라이크\n",
      "게임 성공\n"
     ]
    }
   ],
   "source": [
    "import random\n",
    "\n",
    "numbers = []\n",
    "number = str(random.randint(0, 9))\n",
    "\n",
    "for i in range(3):\n",
    "    while number in numbers:\n",
    "        number = str(random.randint(0, 9))\n",
    "    numbers.append(number)\n",
    "    \n",
    "print('*' * 60)\n",
    "print('야구 게임을 시작합니다!')\n",
    "print('*' * 60)\n",
    "\n",
    "count_strike = 0\n",
    "count_ball = 0\n",
    "\n",
    "while count_strike < 3:\n",
    "    \n",
    "    count_strike = 0\n",
    "    count_ball = 0\n",
    "\n",
    "    num = str(input('숫자 3자리를 입력하세요> '))\n",
    "    if len(num) == 3:\n",
    "        for i in range(0, 3):\n",
    "            for j in range(0, 3):\n",
    "                if num[i] == numbers[j] and i == j:\n",
    "                    count_strike += 1\n",
    "                elif num[i] == numbers[j] and i != j:\n",
    "                    count_ball += 1\n",
    "        if count_strike == 0 and count_ball == 0:\n",
    "            print('3 아웃 !!')\n",
    "        else:\n",
    "            output = ''\n",
    "            if count_strike > 0:\n",
    "                output += f'{count_strike} 스트라이크'\n",
    "            if count_ball > 0:\n",
    "                output += f' {count_strike} 볼'\n",
    "                \n",
    "            print(output.strip())\n",
    "print('게임 성공')\n",
    "            "
   ]
  }
 ],
 "metadata": {
  "kernelspec": {
   "display_name": "inaction",
   "language": "python",
   "name": "inaction"
  },
  "language_info": {
   "codemirror_mode": {
    "name": "ipython",
    "version": 3
   },
   "file_extension": ".py",
   "mimetype": "text/x-python",
   "name": "python",
   "nbconvert_exporter": "python",
   "pygments_lexer": "ipython3",
   "version": "3.9.1"
  }
 },
 "nbformat": 4,
 "nbformat_minor": 5
}
