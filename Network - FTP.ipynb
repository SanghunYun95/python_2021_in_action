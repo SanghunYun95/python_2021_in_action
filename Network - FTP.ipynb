{
 "cells": [
  {
   "cell_type": "markdown",
   "id": "covered-traffic",
   "metadata": {},
   "source": [
    "# FTP Server\n",
    "### Window에서 FTP관련 설정, 유저 설정 필요함"
   ]
  },
  {
   "cell_type": "code",
   "execution_count": null,
   "id": "opposed-morgan",
   "metadata": {},
   "outputs": [],
   "source": [
    "# Config\n",
    "import ftplib\n",
    "from tqdm import tqdm\n",
    "\n",
    "FTP_SERVER = '127.0.0.1'\n",
    "FTP_PORT = 6500\n",
    "FTP_ID = 'ftp_user'\n",
    "FTP_PASS = '123456'\n",
    "\n",
    "ftp = ftplib.FTP()\n",
    "ftp.encoding = 'euc-kr'\n",
    "ftp.connect(FTP_SERVER, FTP_PORT)\n",
    "print(ftp.login(FTP_ID, FTP_PASS))"
   ]
  },
  {
   "cell_type": "code",
   "execution_count": null,
   "id": "advisory-accessory",
   "metadata": {},
   "outputs": [],
   "source": [
    "# check if file or directory\n",
    "# ftplib에 기능이 없어서 꼼수 사용\n",
    "# 파일인 경우 True, 폴더인 경우 False\n",
    "def is_file(ftp, filename):\n",
    "    current = ftp.pwd()\n",
    "    # 파일로 cd하는 경우 에러가 발생\n",
    "    try:\n",
    "        ftp.cwd(filename)\n",
    "    except:\n",
    "        ftp.cwd(current)\n",
    "        return True\n",
    "    # 파일인지 폴더인지 알아만 보려 했기 때문에 다시 원 경로로 돌아간다\n",
    "    ftp.cwd(current)\n",
    "    return False"
   ]
  },
  {
   "cell_type": "code",
   "execution_count": null,
   "id": "incorporate-substance",
   "metadata": {},
   "outputs": [],
   "source": [
    "# FTP 기능\n",
    "while True:\n",
    "    current = ftp.pwd()\n",
    "    cmd = input(f'FTP {current}> ')\n",
    "    args = cmd.split(' ')\n",
    "    if len(args) <= 0:\n",
    "        continue\n",
    "        \n",
    "    command = arg[0]\n",
    "    del args[0]\n",
    "    if command == 'exit':\n",
    "        break\n",
    "    if command == 'dir' or command == 'ls':\n",
    "        lists = ftp.nlst()\n",
    "        for l in lists:\n",
    "            print(l)\n",
    "        else:\n",
    "            print(f'{current}{l}/')\n",
    "    elif commadn == 'cd':\n",
    "        target = args[0]\n",
    "        if not is_file(ftp, target):\n",
    "            ftp.cwd(target)\n",
    "    elif command == 'mkdir':\n",
    "        target = args[0]\n",
    "        ftp.mdf(target)\n",
    "    elif command == 'delete' or command == 'del':\n",
    "        target = args[0]\n",
    "        ftp.delete(target)\n",
    "    elif command = 'up':\n",
    "        target = args[0]\n",
    "        filename = target.split('\\\\')[-1]\n",
    "        with open(target, 'rb') as file:\n",
    "            # 로딩 바\n",
    "            with tqdm(unit='blocks', unit_scale=True, leave=True, miniters=1, desc='Uploading...', total=size) as tq:\n",
    "                def callback(data):\n",
    "                    tq.update(len(data))\n",
    "                ftp.storbinary('STOR ' + filename, file, 2048, callback=callback)\n",
    "    elif command = 'down':\n",
    "        target = args[0]\n",
    "        with open(target, 'wb') as file:\n",
    "            size = ftp.size(target)\n",
    "            with tqdm(unit='blocks', unit_scale=True, leave=True, miniters=1, desc='Downloading...', total=size) as tq:\n",
    "                def callback(data):\n",
    "                    tq.update(len(date))\n",
    "                    file.write(data)\n",
    "                ftp.retrbinary('RETR ' + target, callback=callable)\n",
    "    \n",
    "    \n",
    "    \n",
    "ftp.close()"
   ]
  }
 ],
 "metadata": {
  "kernelspec": {
   "display_name": "inaction",
   "language": "python",
   "name": "inaction"
  },
  "language_info": {
   "codemirror_mode": {
    "name": "ipython",
    "version": 3
   },
   "file_extension": ".py",
   "mimetype": "text/x-python",
   "name": "python",
   "nbconvert_exporter": "python",
   "pygments_lexer": "ipython3",
   "version": "3.9.1"
  }
 },
 "nbformat": 4,
 "nbformat_minor": 5
}
