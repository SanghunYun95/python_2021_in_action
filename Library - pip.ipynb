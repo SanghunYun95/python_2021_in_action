{
 "cells": [
  {
   "cell_type": "markdown",
   "id": "efficient-stomach",
   "metadata": {},
   "source": [
    "pip install\n",
    "pip uninstall\n",
    "pip freeze: 현재 설치된 라이브러리 목록\n",
    "pip freeze > list.txt : list.txt라는 파일에 현재 설치된 라이브러리 목록을 쓴다\n",
    "pip install -r .\\list.txt(파일 경로):list.txt파일에 있는 모든 라이브러리 목록을 설치한다 \n",
    "pip show 모듈명: 모듈의 정보를 가져온다"
   ]
  }
 ],
 "metadata": {
  "kernelspec": {
   "display_name": "inaction",
   "language": "python",
   "name": "inaction"
  },
  "language_info": {
   "codemirror_mode": {
    "name": "ipython",
    "version": 3
   },
   "file_extension": ".py",
   "mimetype": "text/x-python",
   "name": "python",
   "nbconvert_exporter": "python",
   "pygments_lexer": "ipython3",
   "version": "3.9.1"
  }
 },
 "nbformat": 4,
 "nbformat_minor": 5
}
