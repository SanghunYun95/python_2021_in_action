{
 "cells": [
  {
   "cell_type": "code",
   "execution_count": 2,
   "id": "insured-smell",
   "metadata": {},
   "outputs": [
    {
     "name": "stdout",
     "output_type": "stream",
     "text": [
      "HTTP/1.1 200 OK\n",
      "Date: Sun, 14 Feb 2021 12:51:57 GMT\n",
      "Expires: -1\n",
      "Cache-Control: private, max-age=0\n",
      "Content-Type: text/html; charset=ISO-8859-1\n",
      "P3P: CP=\"This is not a P3P policy! See g.co/p3phelp for more info.\"\n",
      "Server: gws\n",
      "X-XSS-Protection: 0\n",
      "X-Frame-Options: SAMEORIGIN\n",
      "Set-Cookie: 1P_JAR=2021-02-14-12; expires=Tue, 16-Mar-2021 12:51:57 GMT; path=/; domain=.google.com; Secure\n",
      "Set-Cookie: NID=209=CKn00u0IgeXaqlRNXcG1HFYMBw77IAoKCM6ajA_vz-psyrpBDLkfwsCKtW-lZnwVVR4RS8rgZ5QTTTB-GqfuInOA7l4KNuCCl9pYr1z7PEEccOGlQXGcbRZthLy0M1rvHBFtWH5PG_qVu5AaLeRxjoVVxPZDGF2O5PiJ68kWfoI; expires=Mon, 16-Aug-2021 12:51:57 GMT; path=/; domain=.google.com; HttpOnly\n",
      "Accept-Ranges: none\n",
      "Vary: Accept-Encoding\n",
      "Transfer-Encoding: chunked\n",
      "\n",
      "5627\n",
      "<!doctype html><html itemscope=\"\" itemtype=\"http://schema.org/WebPage\" lang=\"ko\"><head><meta content=\"text/html; charset=UTF-8\" http-equiv=\"Content-Type\"><meta content=\"/images/branding/googleg/1x/googleg_standard_color_128dp.png\" itemprop=\"image\"><title>Google</title><script nonce=\"kVhC6dZzP4I6MwNxRWWqbg==\">(function(){window.google={kEI:'7RwpYI-vL9CpoATzjZ6wCg',kEXPI:'0,1359409,954,5105,206,3204,10,1590,2316,383,246,5,1354,5250,6,2336,2998,7,1117169,1233,1196553,497,328984,51224,16114,28682,9190,8384,4859,1361,9291,3024,4743,8000,4841,4020,978,13228,2054,920,873,4192,6430,7432,7095,4517,2778,919,2277,8,2796,1593,1279,2212,530,149,1103,840,517,1522,4258,108,204,1137,2,2063,606,2023,1777,520,4156,3,110,328,1284,2943,5846,3227,2845,7,4774,825,6755,5096,7877,3747,1181,108,3407,908,2,941,2614,2397,1504,5966,3275,3,576,970,865,4625,148,5990,4050,3935,4,498,1030,2304,1236,1145,4082,576,1791,125,4,1244,1520,459,1555,4067,5634,1426,714,4781,1753,2658,491,3752,518,912,564,464,656,30,1301,2551,3235,1055,3272,2214,2305,638,1494,605,2,892,591,3177,320,2360,55,5483,1307,587,11,731,665,2145,117,259,3282,2554,479,142,370,1,1055,907,777,363,17,50,99,2972,6,908,3,3363,88,90,1,4940,384,662,519,494,2473,472,501,1008,3257,1187,369,258,38,245,38,874,3434,1941,617,1260,238,298,1,657,2,60,1014,179,941,1340,83,681,401,31,2857,666,46,77,139,250,115,999,191,2,79,259,225,831,177,404,980,443,222,2,40,2,536,654,191,89,94,309,231,26,2549,631,483,431,330,2,1302,3068,630,5691956,3870,35,62,5996733,2801216,549,333,444,1,2,80,1,900,896,1,9,2,2551,1,748,141,59,736,563,1,4265,1,1,2,1331,3299,248,595,1,2608,155,17,13,72,46,81,27,4,32,15,27,1,1,1,3,1,23957156,4010832,427',kBL:'XyrI'};google.sn='webhp';google.kHL='ko';})();(function(){\n",
      "google.lc=[];google.li=0;google.getEI=function(a){for(var b;a&&(!a.getAttribute||!(b=a.getAttribute(\"eid\")));)a=a.parentNode;return b||google.kEI};google.getLEI=function(a){for(var b=null;a&&(!a.getAttribute||!(b=a.getAttribute(\"leid\")));)a=a.parentNode;return b};google.ml=function(){return null};google.time=function(){return Date.now()};google.log=function(a,b,c,d,f){if(c=google.logUrl(a,b,c,d,f)){a=new Image;var e=google.lc,g=google.li;e[g]=a;a.onerror=a.onload=a.onabort=function(){delete e[g]};a.src=c;google.li=g+1}};google.logUrl=function(a,b,c,d,f){var e=\"\";c||-1!=b.search(\"&ei=\")||(e=\"&ei=\"+google.getEI(d),-1==b.search(\"&lei=\")&&(d=google.getLEI(d))&&(e+=\"&lei=\"+d));d=\"\";!c&&window._cshid&&-1==b.search(\"&cshid=\")&&\"slh\"!=a&&(d=\"&cshid=\"+window._cshid);c=c||\"/\"+(f||\"gen_204\")+\"?atyp=i&ct=\"+a+\"&cad=\"+b+e+\"&zx=\"+Date.now()+d;/^http:/i.test(c)&&\"https:\"==window.location.protocol&&(google.ml(Error(\"a\"),!1,{src:c,glmm:1}),c=\"\");return c};}).call(this);(function(){google.y={};google.x=function(a,b){if(a)var c=a.id;else{do c=Math.random();while(google.y[c])}google.y[c]=[a,b];return!1};google.lm=[];google.plm=function(a){google.lm.push.apply(google.lm,a)};google.lq=[];google.load=function(a,b,c){google.lq.push([[a],b,c])};google.loadAll=function(a,b){google.lq.push([a,b])};google.bx=!1;google.lx=function(){};}).call(this);google.f={};(function(){\n",
      "document.documentElement.addEventListener(\"submit\",function(b){var a;if(a=b.target){var c=a.getAttribute(\"data-submitfalse\");a=\"1\"==c||\"q\"==c&&!a.elements.q.value?!0:!1}else a=!1;a&&(b.preventDefault(),b.stopPropagation())},!0);document.documentElement.addEventLis\n"
     ]
    }
   ],
   "source": [
    "import socket\n",
    "\n",
    "sock = socket.socket(socket.AF_INET, socket.SOCK_STREAM)\n",
    "# DNS\n",
    "google_ip = socket.gethostbyname('google.com')\n",
    "sock.connect((google_ip, 80))\n",
    "\n",
    "#          문자열            바이너리로 인코딩 (소켓 통신을 위함)\n",
    "sock.send('GET / HTTP/1.1\\n'.encode())\n",
    "sock.send('\\n'.encode())\n",
    "\n",
    "# 4096 바이트만 받아오기\n",
    "buffer = sock.recv(4096)\n",
    "# C의 캐리지 리턴은 파이썬 형식으로 변환   줄바꿈\n",
    "buffer = buffer.decode().replace('\\r\\n', '\\n')\n",
    "sock.close()\n",
    "\n",
    "print(buffer)\n",
    "\n",
    "\n",
    "'''\n",
    "HTTP/1.1 200 OK\n",
    "Date: Sun, 14 Feb 2021 12:51:57 GMT\n",
    "Expires: -1\n",
    "Cache-Control: private, max-age=0\n",
    "Content-Type: text/html; charset=ISO-8859-1\n",
    "P3P: CP=\"This is not a P3P policy! See g.co/p3phelp for more info.\"\n",
    "Server: gws\n",
    "X-XSS-Protection: 0\n",
    "X-Frame-Options: SAMEORIGIN\n",
    "Set-Cookie: 1P_JAR=2021-02-14-12; expires=Tue, 16-Mar-2021 12:51:57 GMT; path=/; domain=.google.com; Secure\n",
    "Set-Cookie: NID=209=CKn00u0IgeXaqlRNXcG1HFYMBw77IAoKCM6ajA_vz-psyrpBDLkfwsCKtW-lZnwVVR4RS8rgZ5QTTTB-GqfuInOA7l4KNuCCl9pYr1z7PEEccOGlQXGcbRZthLy0M1rvHBFtWH5PG_qVu5AaLeRxjoVVxPZDGF2O5PiJ68kWfoI; expires=Mon, 16-Aug-2021 12:51:57 GMT; path=/; domain=.google.com; HttpOnly\n",
    "Accept-Ranges: none\n",
    "Vary: Accept-Encoding\n",
    "Transfer-Encoding: chunked\n",
    "\n",
    "5627\n",
    "<!doctype html><html itemscope=\"\" itemtype=\"http://schema.org/WebPage\" lang=\"ko\"><head><meta content=\"text/html; charset=UTF-8\" http-equiv=\"Content-Type\"><meta content=\"/images/branding/googleg/1x/googleg_standard_color_128dp.png\" itemprop=\"image\"><title>Google</title><script nonce=\"kVhC6dZzP4I6MwNxRWWqbg==\">(function(){window.google={kEI:'7RwpYI-vL9CpoATzjZ6wCg',kEXPI:'0,1359409,954,5105,206,3204,10,1590,2316,383,246,5,1354,5250,6,2336,2998,7,1117169,1233,1196553,497,328984,51224,16114,28682,9190,8384,4859,1361,9291,3024,4743,8000,4841,4020,978,13228,2054,920,873,4192,6430,7432,7095,4517,2778,919,2277,8,2796,1593,1279,2212,530,149,1103,840,517,1522,4258,108,204,1137,2,2063,606,2023,1777,520,4156,3,110,328,1284,2943,5846,3227,2845,7,4774,825,6755,5096,7877,3747,1181,108,3407,908,2,941,2614,2397,1504,5966,3275,3,576,970,865,4625,148,5990,4050,3935,4,498,1030,2304,1236,1145,4082,576,1791,125,4,1244,1520,459,1555,4067,5634,1426,714,4781,1753,2658,491,3752,518,912,564,464,656,30,1301,2551,3235,1055,3272,2214,2305,638,1494,605,2,892,591,3177,320,2360,55,5483,1307,587,11,731,665,2145,117,259,3282,2554,479,142,370,1,1055,907,777,363,17,50,99,2972,6,908,3,3363,88,90,1,4940,384,662,519,494,2473,472,501,1008,3257,1187,369,258,38,245,38,874,3434,1941,617,1260,238,298,1,657,2,60,1014,179,941,1340,83,681,401,31,2857,666,46,77,139,250,115,999,191,2,79,259,225,831,177,404,980,443,222,2,40,2,536,654,191,89,94,309,231,26,2549,631,483,431,330,2,1302,3068,630,5691956,3870,35,62,5996733,2801216,549,333,444,1,2,80,1,900,896,1,9,2,2551,1,748,141,59,736,563,1,4265,1,1,2,1331,3299,248,595,1,2608,155,17,13,72,46,81,27,4,32,15,27,1,1,1,3,1,23957156,4010832,427',kBL:'XyrI'};google.sn='webhp';google.kHL='ko';})();(function(){\n",
    "google.lc=[];google.li=0;google.getEI=function(a){for(var b;a&&(!a.getAttribute||!(b=a.getAttribute(\"eid\")));)a=a.parentNode;return b||google.kEI};google.getLEI=function(a){for(var b=null;a&&(!a.getAttribute||!(b=a.getAttribute(\"leid\")));)a=a.parentNode;return b};google.ml=function(){return null};google.time=function(){return Date.now()};google.log=function(a,b,c,d,f){if(c=google.logUrl(a,b,c,d,f)){a=new Image;var e=google.lc,g=google.li;e[g]=a;a.onerror=a.onload=a.onabort=function(){delete e[g]};a.src=c;google.li=g+1}};google.logUrl=function(a,b,c,d,f){var e=\"\";c||-1!=b.search(\"&ei=\")||(e=\"&ei=\"+google.getEI(d),-1==b.search(\"&lei=\")&&(d=google.getLEI(d))&&(e+=\"&lei=\"+d));d=\"\";!c&&window._cshid&&-1==b.search(\"&cshid=\")&&\"slh\"!=a&&(d=\"&cshid=\"+window._cshid);c=c||\"/\"+(f||\"gen_204\")+\"?atyp=i&ct=\"+a+\"&cad=\"+b+e+\"&zx=\"+Date.now()+d;/^http:/i.test(c)&&\"https:\"==window.location.protocol&&(google.ml(Error(\"a\"),!1,{src:c,glmm:1}),c=\"\");return c};}).call(this);(function(){google.y={};google.x=function(a,b){if(a)var c=a.id;else{do c=Math.random();while(google.y[c])}google.y[c]=[a,b];return!1};google.lm=[];google.plm=function(a){google.lm.push.apply(google.lm,a)};google.lq=[];google.load=function(a,b,c){google.lq.push([[a],b,c])};google.loadAll=function(a,b){google.lq.push([a,b])};google.bx=!1;google.lx=function(){};}).call(this);google.f={};(function(){\n",
    "document.documentElement.addEventListener(\"submit\",function(b){var a;if(a=b.target){var c=a.getAttribute(\"data-submitfalse\");a=\"1\"==c||\"q\"==c&&!a.elements.q.value?!0:!1}else a=!1;a&&(b.preventDefault(),b.stopPropagation())},!0);document.documentElement.addEventLis\n",
    "'''"
   ]
  }
 ],
 "metadata": {
  "kernelspec": {
   "display_name": "inaction",
   "language": "python",
   "name": "inaction"
  },
  "language_info": {
   "codemirror_mode": {
    "name": "ipython",
    "version": 3
   },
   "file_extension": ".py",
   "mimetype": "text/x-python",
   "name": "python",
   "nbconvert_exporter": "python",
   "pygments_lexer": "ipython3",
   "version": "3.9.1"
  }
 },
 "nbformat": 4,
 "nbformat_minor": 5
}
