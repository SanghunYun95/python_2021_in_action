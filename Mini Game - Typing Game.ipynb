{
 "cells": [
  {
   "cell_type": "code",
   "execution_count": 5,
   "id": "structured-exhibit",
   "metadata": {},
   "outputs": [
    {
     "name": "stdout",
     "output_type": "stream",
     "text": [
      "독도는 우리땅\n",
      "독도는 우리땅\n",
      "속도: 102.74ms, 정확도: 100.0%, 오타율: 0.0%\n",
      "남박사의 파이썬 100% 실전 프로그래밍 강좌\n",
      "ㅁㄴ에ㅐㄴ엠\n",
      "속도: 0.0ms, 정확도: 0.0%, 오타율: 100.0%\n",
      "UTF-8은 유니코드를 8비트 기반으로 저장하는 인코딩 방식이다\n",
      "UTF-8은 유니코드를 8비트 기반으로 저장하는 인코딩 방식이다\n",
      "속도: 133.43ms, 정확도: 100.0%, 오타율: 0.0%\n",
      "chr(x)는 x에 유니코드 10진수 값을 입력하면 해당하는 문자를 리턴한다\n",
      "exit\n"
     ]
    }
   ],
   "source": [
    "import time\n",
    "import random\n",
    "\n",
    "WORD_LIST = [\n",
    "    '남박사의 파이썬 100% 실전 프로그래밍 강좌',\n",
    "    '파이썬에서 ord() 함수는 문자의 유니코드 값을 알아오는 함수로 10진수 값을 리턴한다',\n",
    "    'chr(x)는 x에 유니코드 10진수 값을 입력하면 해당하는 문자를 리턴한다',\n",
    "    'UTF-8은 유니코드를 8비트 기반으로 저장하는 인코딩 방식이다',\n",
    "    'CP949는 윈도우에서 사용하기 위해 EUC-KR을 확장해서 만든 문자셋이다.',\n",
    "    '파이썬은 코드가 짧고 유연하여 가독성과 생산성이 좋은 프로그래밍 언어이다.',\n",
    "    '코딩하세요 코딩~~',\n",
    "    '독도는 우리땅'\n",
    "]\n",
    "\n",
    "random.shuffle(WORD_LIST)\n",
    "\n",
    "for q in WORD_LIST:\n",
    "    start_time = time.time()\n",
    "    user_input = str(input(q + '\\n')).strip()\n",
    "    end_time = time.time() - start_time\n",
    "    \n",
    "    if user_input == 'exit':\n",
    "        break\n",
    "        \n",
    "    correct = 0\n",
    "    for i,c in enumerate(user_input):\n",
    "        if i >= len(q):\n",
    "            break\n",
    "        if c == q[i]:\n",
    "            correct += 1\n",
    "        \n",
    "    tot_len = len(q)\n",
    "    c = correct / tot_len * 100\n",
    "    e = (tot_len - correct) / tot_len * 100\n",
    "    speed = (correct / end_time) * 60\n",
    "     \n",
    "    print(f'속도: {round(speed,2)}, 정확도: {round(c,2)}%, 오타율: {round(e,2)}%')\n",
    "    "
   ]
  }
 ],
 "metadata": {
  "kernelspec": {
   "display_name": "inaction",
   "language": "python",
   "name": "inaction"
  },
  "language_info": {
   "codemirror_mode": {
    "name": "ipython",
    "version": 3
   },
   "file_extension": ".py",
   "mimetype": "text/x-python",
   "name": "python",
   "nbconvert_exporter": "python",
   "pygments_lexer": "ipython3",
   "version": "3.9.1"
  }
 },
 "nbformat": 4,
 "nbformat_minor": 5
}
