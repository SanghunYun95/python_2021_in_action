{
 "cells": [
  {
   "cell_type": "code",
   "execution_count": 2,
   "id": "diagnostic-correspondence",
   "metadata": {},
   "outputs": [
    {
     "name": "stdout",
     "output_type": "stream",
     "text": [
      "주문받기 0\n",
      "우편발송 0\n",
      "우편발송 1\n",
      "우편발송 2주문받기 1\n",
      "\n",
      "우편발송 3\n",
      "주문받기 2\n",
      "우편발송 4\n",
      "주문받기 3\n",
      "주문받기 4\n"
     ]
    }
   ],
   "source": [
    "import time\n",
    "import threading\n",
    "\n",
    "def 주문받기():\n",
    "    for i in range(5):\n",
    "        print(f'주문받기 {i}')\n",
    "        time.sleep(1)\n",
    "        \n",
    "def 우편발송():\n",
    "    for i in range(5):\n",
    "        print(f'우편발송 {i}')\n",
    "        time.sleep(0.5)\n",
    "        \n",
    "        \n",
    "th1 = threading.Thread(target=주문받기)\n",
    "th2 = threading.Thread(target=우편발송)\n",
    "\n",
    "# Daemon으로 실행하지 않으면 터미널이 종료되도 쓰레드가 살아있는다\n",
    "th1.daemon = True\n",
    "th2.daemon = True\n",
    "\n",
    "# 프로그램을 실행 했을 때, Main Thread는 아래 하위 쓰레드를 관장한다\n",
    "th1.start()\n",
    "th2.start()\n"
   ]
  },
  {
   "cell_type": "code",
   "execution_count": 7,
   "id": "binding-briefing",
   "metadata": {},
   "outputs": [
    {
     "name": "stdout",
     "output_type": "stream",
     "text": [
      "믹스인 레디\n",
      "람보르는 300 속도의 성능을 가집니다\n",
      "람보르가 300의 속도로 달립니다.\n",
      "스타트\n"
     ]
    }
   ],
   "source": [
    "# Mix In\n",
    "class CarMixIn:\n",
    "    def ready(self):\n",
    "        print('믹스인 레디')\n",
    "    def start(self):\n",
    "        print(f'{self.name}가 {self.speed}의 속도로 달립니다.')\n",
    "        \n",
    "        \n",
    "class Performance():\n",
    "    def __init__(self, name, speed):\n",
    "        self.name = name\n",
    "        self.speed = speed\n",
    "        # CarMixIn의 ready()\n",
    "        self.ready()\n",
    "        \n",
    "class SuperCar(CarMixIn, Performance):\n",
    "    def show_info(self):\n",
    "        print(f'{self.name}는 {self.speed} 속도의 성능을 가집니다')\n",
    "    def start(self):\n",
    "        # 슈퍼 메소드\n",
    "        super().start()\n",
    "        # 오버라이트\n",
    "        print('스타트')\n",
    "        \n",
    "s = SuperCar('람보르', 300)\n",
    "s.show_info()\n",
    "s.start()"
   ]
  }
 ],
 "metadata": {
  "kernelspec": {
   "display_name": "inaction",
   "language": "python",
   "name": "inaction"
  },
  "language_info": {
   "codemirror_mode": {
    "name": "ipython",
    "version": 3
   },
   "file_extension": ".py",
   "mimetype": "text/x-python",
   "name": "python",
   "nbconvert_exporter": "python",
   "pygments_lexer": "ipython3",
   "version": "3.9.1"
  }
 },
 "nbformat": 4,
 "nbformat_minor": 5
}
