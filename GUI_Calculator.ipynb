{
 "cells": [
  {
   "cell_type": "code",
   "execution_count": 1,
   "id": "visible-secretariat",
   "metadata": {},
   "outputs": [],
   "source": [
    "from PyQt5 import QtWidgets\n",
    "from PyQt5.QtWidgets import QMainWindow, QApplication, QToolButton, QSizePolicy, QLineEdit, QGridLayout, QLayout, QVBoxLayout, QWidget\n",
    "from PyQt5.QtCore import Qt"
   ]
  },
  {
   "cell_type": "code",
   "execution_count": 2,
   "id": "urban-region",
   "metadata": {},
   "outputs": [],
   "source": [
    "class App(QMainWindow):\n",
    "    def __init__(self):\n",
    "        super().__init__()\n",
    "        \n",
    "        self.title = '계산기'\n",
    "        self.setWindowTitle(self.title)\n",
    "        \n",
    "        self.left = 100\n",
    "        self.top = 200\n",
    "        self.width = 300\n",
    "        self.height = 200\n",
    "        self.setGeometry(self.left, self.top, self.width, self.height)\n",
    "        \n",
    "        self.table_widget = MyCalculator()\n",
    "        self.setCentralWidget(self.table_widget)\n",
    "        self.show()        "
   ]
  },
  {
   "cell_type": "code",
   "execution_count": 3,
   "id": "healthy-declaration",
   "metadata": {},
   "outputs": [],
   "source": [
    "class Button(QToolButton):\n",
    "    def __init__(self, text):\n",
    "        super().__init__()\n",
    "        buttonStyle = '''\n",
    "        QToolButton:hover {border:1px solid #0078d7; backgroud-color:#e5f1fb;}\n",
    "        QToolButton:pressed {background-color:#a7c8e3}\n",
    "        QToolButton {font-size:11pt; font-family:나눔고딕; border:1px solid #d6d7d8; background-color:#f0f1f1}\n",
    "        '''\n",
    "        self.setSizePolicy(QSizePolicy.Expanding, QSizePolicy.Preferred)\n",
    "        self.setText(text)\n",
    "        self.setStyleSheet(buttonStyle)\n",
    "        \n",
    "    # Override\n",
    "    def sizeHint(self):\n",
    "        size = super(Button, self).sizeHint()\n",
    "        size.setHeight(size.height() + 30)\n",
    "        size.setWidth(max(size.width(), size.height()))\n",
    "        return size"
   ]
  },
  {
   "cell_type": "code",
   "execution_count": 4,
   "id": "material-swift",
   "metadata": {},
   "outputs": [],
   "source": [
    "class MyCalculator(QWidget):\n",
    "    def __init__(self):\n",
    "        super().__init__()\n",
    "        self.display = QLineEdit('0')\n",
    "        self.display.setReadOnly(True)\n",
    "        self.display.setAlignment(Qt.AlignRight)\n",
    "        self.display.setStyleSheet('border:0px; font-size:20pt; font-family:나눔고딕; font-weight:bold; padding:10px')\n",
    "        \n",
    "        gridLayout = QGridLayout()\n",
    "        gridLayout.setSizeConstraint(QLayout.SetFixedSize)\n",
    "        \n",
    "        self.clearButton = self.createButton('CE', self.clear)\n",
    "        self.clearAllButton = self.createButton('C', self.clearAll)\n",
    "        self.backButton = self.createButton('Back', self.backDelete)\n",
    "        self.divButton = self.createButton('/', self.backDelete)\n",
    "        self.multiplyButton = self.createButton('*', self.clickButtons)\n",
    "        self.minusButton = self.createButton('-', self.clickButtons)\n",
    "        self.plusButton = self.createButton('+', self.clickButtons)\n",
    "        self.equalButton = self.createButton('=', self.clickButtons)\n",
    "        self.dotButton = self.createButton('.', self.clickButtons)\n",
    "        self.reverseButton = self.createButton('R', self.reverse)\n",
    "        \n",
    "        #                                 row, col, hieht, width\n",
    "        gridLayout.addWidget(self.clearButton, 0, 0, 1, 1)\n",
    "        gridLayout.addWidget(self.clearAllButton, 0, 1, 1, 1)\n",
    "        gridLayout.addWidget(self.backButton, 0, 2, 1, 1)\n",
    "        gridLayout.addWidget(self.divButton, 0, 3, 1, 1)\n",
    "        gridLayout.addWidget(self.multiplyButton, 1, 3, 1, 1)\n",
    "        gridLayout.addWidget(self.minusButton, 2, 3, 1, 1)\n",
    "        gridLayout.addWidget(self.plusButton, 3, 3, 1, 1)\n",
    "        gridLayout.addWidget(self.equalButton, 4, 3, 1, 1)\n",
    "        gridLayout.addWidget(self.dotButton, 4, 2, 1, 1)\n",
    "        gridLayout.addWidget(self.reverseButton, 4, 0, 1, 1)\n",
    "        \n",
    "        self.digitButtons = []\n",
    "        for i in range(10):\n",
    "            self.digitButtons.append(self.createButton(str(i), self.clickButtons))\n",
    "            \n",
    "        gridLayout.addWidget(self.digitButtons[0], 4, 1, 1, 1)\n",
    "        \n",
    "        for i in range(1, 10):\n",
    "            row = int(((9 - i) / 3) + 1)\n",
    "            col = ((i - 1) % 3)\n",
    "            gridLayout.addWidget(self.digitButtons[i], row, col, 1, 1)\n",
    "#         --> 아래와 같다            \n",
    "#         gridLayout.addWidget(self.digitButtons[1], 3, 0, 1, 1)\n",
    "#         gridLayout.addWidget(self.digitButtons[2], 3, 1, 1, 1)\n",
    "#         gridLayout.addWidget(self.digitButtons[3], 3, 2, 1, 1)\n",
    "#         gridLayout.addWidget(self.digitButtons[4], 2, 0, 1, 1)\n",
    "#         gridLayout.addWidget(self.digitButtons[5], 2, 1, 1, 1)\n",
    "#         gridLayout.addWidget(self.digitButtons[6], 2, 2, 1, 1)\n",
    "#         gridLayout.addWidget(self.digitButtons[7], 1, 0, 1, 1)\n",
    "#         gridLayout.addWidget(self.digitButtons[8], 1, 1, 1, 1)\n",
    "#         gridLayout.addWidget(self.digitButtons[9], 1, 2, 1, 1)\n",
    "        \n",
    "        layout = QVBoxLayout()\n",
    "        layout.addWidget(self.display)\n",
    "        layout.addLayout(gridLayout)\n",
    "        self.setLayout(layout)\n",
    "        self.setWindowTitle('계산기')\n",
    "        self.setGeometry(300, 300, 300, 400)\n",
    "        \n",
    "    def clear(self):\n",
    "        pass\n",
    "    \n",
    "    def clearAll(self):\n",
    "        pass\n",
    "    \n",
    "    def backDelete(self):\n",
    "        pass\n",
    "    \n",
    "    def reverse(self):\n",
    "        pass\n",
    "    \n",
    "    def clickButtons(self):\n",
    "        pass\n",
    "    \n",
    "    def createButton(self, text, function):\n",
    "        button = Button(text)\n",
    "        button.clicked.connect(function)\n",
    "        return button"
   ]
  },
  {
   "cell_type": "code",
   "execution_count": 5,
   "id": "acting-break",
   "metadata": {},
   "outputs": [
    {
     "data": {
      "text/plain": [
       "0"
      ]
     },
     "execution_count": 5,
     "metadata": {},
     "output_type": "execute_result"
    }
   ],
   "source": [
    "app = QApplication([])\n",
    "calc = App()\n",
    "app.exec_()"
   ]
  }
 ],
 "metadata": {
  "kernelspec": {
   "display_name": "inaction",
   "language": "python",
   "name": "inaction"
  },
  "language_info": {
   "codemirror_mode": {
    "name": "ipython",
    "version": 3
   },
   "file_extension": ".py",
   "mimetype": "text/x-python",
   "name": "python",
   "nbconvert_exporter": "python",
   "pygments_lexer": "ipython3",
   "version": "3.9.1"
  }
 },
 "nbformat": 4,
 "nbformat_minor": 5
}
