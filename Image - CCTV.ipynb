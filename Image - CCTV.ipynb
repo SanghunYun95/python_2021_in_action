{
 "cells": [
  {
   "cell_type": "code",
   "execution_count": 4,
   "id": "formed-algeria",
   "metadata": {},
   "outputs": [],
   "source": [
    "import cv2\n",
    "import numpy as np\n",
    "#from skimage.measure import compare_ssim --> deprecated\n",
    "from skimage.metrics import structural_similarity as compare_ssim\n",
    "from PIL import Image, ImageFont, ImageDraw"
   ]
  },
  {
   "cell_type": "code",
   "execution_count": 5,
   "id": "known-yesterday",
   "metadata": {},
   "outputs": [],
   "source": [
    "# 웹캠이 하나인 경우 0번째\n",
    "cap = cv2.VideoCapture(0)\n",
    "if cap.isOpened() == False:\n",
    "    print('카메라를 오픈 할 수 없습니다.')\n",
    "    \n",
    "frame_wdith = int(cap.get(3))\n",
    "frame_height = int(cap.get(4))\n",
    "\n",
    "old_image = None\n",
    "show_image = None\n",
    "\n",
    "while True:\n",
    "    ret, frame = cap.read()\n",
    "    if ret == True:\n",
    "        show_image = frame.copy()\n",
    "        \n",
    "        if old_image is not None:\n",
    "            # 흑백으로 변환\n",
    "            grayA = cv2.cvtColor(frame, cv2.COLOR_BGR2GRAY)\n",
    "            grayB = cv2.cvtColor(old_image, cv2.COLOR_BGR2GRAY)\n",
    "            # 1미만의 확률\n",
    "            (score, diff) = compare_ssim(grayA, grayB, full=True)\n",
    "            diff = (diff * 255).astype('uint8')\n",
    "            # 변화하는 영역 보여주기\n",
    "            cv2.imshow('DIFF', diff)\n",
    "            text = '유사도: {:0.9f}'.format(score)\n",
    "        \n",
    "            font = ImageFont.truetype('malgun.ttf', 17)\n",
    "            text_w, text_h = font.getsize(text)\n",
    "            w = show_image.shape[1]\n",
    "            h = show_image.shape[0]\n",
    "            X_POS = w - text_w - 10\n",
    "            Y_POS = h - text_h - 10\n",
    "            \n",
    "            # open cv --> pillow convert\n",
    "            pil_image = Image.fromarray(show_image)\n",
    "            draw = ImageDraw.Draw(pil_image)\n",
    "            draw.text((X_POS, Y_POS), text, (255,255,255), font=font)\n",
    "            show_image = np.array(pil_image)\n",
    "            \n",
    "            # 유사도가 90% 이하로 떨어질 경우\n",
    "            if score < 0.90:\n",
    "                                #  왼쪽 위 구석, 오른쪽 아래 구석, 빨강, 두께  \n",
    "                cv2.rectangle(show_image, (0, 0), (w, h), (0, 0, 255), 6)\n",
    "            \n",
    "        old_image = frame\n",
    "        cv2.imshow('CCTV', show_image)\n",
    "                   \n",
    "            # C style code\n",
    "        if cv2.waitKey(1) & 0xFF == ord('q'):   # q를 눌러 종료\n",
    "            break\n",
    "    else:\n",
    "        break\n",
    "        \n",
    "cap.release()\n",
    "cv2.destroyAllWindows()"
   ]
  }
 ],
 "metadata": {
  "kernelspec": {
   "display_name": "inaction",
   "language": "python",
   "name": "inaction"
  },
  "language_info": {
   "codemirror_mode": {
    "name": "ipython",
    "version": 3
   },
   "file_extension": ".py",
   "mimetype": "text/x-python",
   "name": "python",
   "nbconvert_exporter": "python",
   "pygments_lexer": "ipython3",
   "version": "3.9.1"
  }
 },
 "nbformat": 4,
 "nbformat_minor": 5
}
