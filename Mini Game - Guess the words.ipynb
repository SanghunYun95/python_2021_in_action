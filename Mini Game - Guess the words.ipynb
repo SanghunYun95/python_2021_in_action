{
 "cells": [
  {
   "cell_type": "code",
   "execution_count": 3,
   "id": "executive-milton",
   "metadata": {},
   "outputs": [
    {
     "name": "stdout",
     "output_type": "stream",
     "text": [
      "사과의 영어 단어를 입력하세요> apple\n",
      "정답 입니다.\n",
      "호랑이의 영어 단어를 입력하세요> a\n",
      "틀렸습니다.\n",
      "호랑이의 영어 단어를 입력하세요> a\n",
      "틀렸습니다.\n",
      "호랑이의 영어 단어를 입력하세요> a\n",
      "틀렸습니다.\n",
      "정답은 tiger입니다.\n",
      "비행기의 영어 단어를 입력하세요> airplain\n",
      "정답 입니다.\n",
      "사자의 영어 단어를 입력하세요> lion\n",
      "정답 입니다.\n",
      "더이상 문제가 없습니다.\n"
     ]
    }
   ],
   "source": [
    "import random\n",
    "\n",
    "words_dict = {\n",
    "    '사자': 'lion',\n",
    "    '호랑이': 'tiger',\n",
    "    '사과': 'apple',\n",
    "    '비행기': 'airplain'\n",
    "}\n",
    "\n",
    "words = []\n",
    "\n",
    "for word in words_dict:\n",
    "    words.append(word)\n",
    "    \n",
    "random.shuffle(words)\n",
    "\n",
    "chance = 3\n",
    "for i in range(0, len(words)):\n",
    "    q = words[i]\n",
    "    for j in range(0, chance):\n",
    "        user_input = str(input(f'{q}의 영어 단어를 입력하세요> '))\n",
    "        english = words_dict[q]\n",
    "        \n",
    "        if user_input.strip().lower() == english.lower():\n",
    "            print('정답 입니다.')\n",
    "            break\n",
    "        else:\n",
    "            print('틀렸습니다.')\n",
    "    if user_input != english:\n",
    "        print(f'정답은 {english}입니다.')\n",
    "        \n",
    "print('더이상 문제가 없습니다.')"
   ]
  }
 ],
 "metadata": {
  "kernelspec": {
   "display_name": "inaction",
   "language": "python",
   "name": "inaction"
  },
  "language_info": {
   "codemirror_mode": {
    "name": "ipython",
    "version": 3
   },
   "file_extension": ".py",
   "mimetype": "text/x-python",
   "name": "python",
   "nbconvert_exporter": "python",
   "pygments_lexer": "ipython3",
   "version": "3.9.1"
  }
 },
 "nbformat": 4,
 "nbformat_minor": 5
}
