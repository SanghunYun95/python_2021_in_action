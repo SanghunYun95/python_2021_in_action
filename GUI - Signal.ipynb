{
 "cells": [
  {
   "cell_type": "code",
   "execution_count": 1,
   "id": "natural-check",
   "metadata": {},
   "outputs": [
    {
     "data": {
      "text/plain": [
       "0"
      ]
     },
     "execution_count": 1,
     "metadata": {},
     "output_type": "execute_result"
    }
   ],
   "source": [
    "from PyQt5 import QtWidgets\n",
    "\n",
    "class MyWindows(QtWidgets.QWidget):\n",
    "    def __init__(self):\n",
    "        super().__init__()\n",
    "        self.setWindowTitle('파이썬 Push 버튼')\n",
    "        \n",
    "        button1 = QtWidgets.QPushButton(self)\n",
    "        button1.setText('버튼1')\n",
    "        \n",
    "        button2 = QtWidgets.QPushButton(self)\n",
    "        button2.setText('버튼2')\n",
    "        \n",
    "        button1.clicked.connect(self.button_clicked)\n",
    "        button2.clicked.connect(self.button_clicked)\n",
    "    \n",
    "        layout = QtWidgets.QHBoxLayout()\n",
    "        layout.addWidget(button1)\n",
    "        layout.addWidget(button2)\n",
    "    \n",
    "        self.setLayout(layout)\n",
    "        self.show()\n",
    "        \n",
    "    def button_clicked(self):\n",
    "        sender = self.sender()\n",
    "        QtWidgets.QMessageBox.about(self, '버튼 테스트', sender.text())\n",
    "        \n",
    "app = QtWidgets.QApplication([])\n",
    "win = MyWindows()\n",
    "app.exec_()"
   ]
  }
 ],
 "metadata": {
  "kernelspec": {
   "display_name": "inaction",
   "language": "python",
   "name": "inaction"
  },
  "language_info": {
   "codemirror_mode": {
    "name": "ipython",
    "version": 3
   },
   "file_extension": ".py",
   "mimetype": "text/x-python",
   "name": "python",
   "nbconvert_exporter": "python",
   "pygments_lexer": "ipython3",
   "version": "3.9.1"
  }
 },
 "nbformat": 4,
 "nbformat_minor": 5
}
