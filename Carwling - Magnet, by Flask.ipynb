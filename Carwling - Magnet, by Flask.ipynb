{
 "cells": [
  {
   "cell_type": "code",
   "execution_count": 13,
   "id": "infrared-duration",
   "metadata": {},
   "outputs": [],
   "source": [
    "from flask import Flask\n",
    "from flask import render_template\n",
    "from flask import request\n",
    "\n",
    "import requests\n",
    "from bs4 import BeautifulSoup\n",
    "import re\n",
    "\n",
    "app = Flask(__name__)"
   ]
  },
  {
   "cell_type": "code",
   "execution_count": 2,
   "id": "undefined-harassment",
   "metadata": {},
   "outputs": [],
   "source": [
    "def search_google(keyword, start_page, end_page=None):\n",
    "    url = \"https://www.google.com/search?q={0}+magnet%3A%3Fxt%3D&oq={0}+magnet%3A%3Fxt%3D&start={1}\".format(keyword, start_page)\n",
    "    # Google, Naver와 같은 Search Engine등 모바일과 브라우저의 양식이 다르기 때문에, 브라우저에서 접속한다는 것을 알림\n",
    "    header = {\"user-agent\": \"Mozilla/5.0 (Windows NT 10.0; Win64; x64) AppleWebKit/537.36 (KHTML, like Gecko) Chrome/74.0.3729.169 Safari/537.36,gzip(gfe)\"}\n",
    "    r = requests.get(url, headers=header)\n",
    "    bs = BeautifulSoup(r.text, \"lxml\")\n",
    "    \n",
    "    links = bs.select(\"div.g > div.tF2Cxc > div.yuRUbf > a\")\n",
    "    results = []\n",
    "\n",
    "    if end_page is None:\n",
    "        # 페이징 될 경우 검색결과 약 100,000개 중 2페이지 (0.50초) 이런 형식으로 결과가 출력됩니다.\n",
    "        # 그래서 \"검색결과 약\" 과 \"개\" 사이의 결과 갯수를 파싱하기 위해서 아래처럼 작업합니다.\n",
    "        parse_text_1 = \"검색결과 약\"\n",
    "        parse_text_2 = \"개\"\n",
    "        # 최초의 검색 결과를 div 태그의 ID가 result-stats 인 요소의 text 값을 구합니다.\n",
    "        # 기존의 코드에서 ID 이름이 변경되었습니다.\n",
    "        text = bs.select(\"div#result-stats\")[0].text\n",
    "\n",
    "        # \"검색결과 약\" 에서부터 맨 뒤까지 문자열을 슬라이싱 해서 text에 다시 담습니다.\n",
    "        text = text[text.find(parse_text_1) + len(parse_text_1):]\n",
    "        # \"검색결과 약\" 이 제거된 text 에서 \"개\" 를 찾아 그곳까지 슬라이싱해서 다시 text에 담습니다.\n",
    "        text = text[:text.find(parse_text_2)]\n",
    "        # 최종적으로 , 를 제거하고 공백제거 후 counts 변수에 담으면 숫자만 담겨 집니다.\n",
    "        counts = text.replace(\",\", \"\").strip()\n",
    "\n",
    "        # 이전코드\n",
    "        # counts = bs.select(\"div#result-stats\")[0].text.replace(\"검색결과 약\", \"\").replace(\"개\", \"\").replace(\",\", \"\").split(\"(\")[0].strip()\n",
    "\n",
    "        #print(counts)\n",
    "        end_page = int(int(counts) / 10)\n",
    "        if end_page > 10:\n",
    "            end_page = 10\n",
    "\n",
    "    for a in links:\n",
    "        href = a[\"href\"]\n",
    "        text = a.select(\"h3\")\n",
    "        \n",
    "        if len(text) <= 0:\n",
    "            continue\n",
    "        title = text[0].text\n",
    "\n",
    "        try:\n",
    "            r = requests.get(href)\n",
    "            bs = BeautifulSoup(r.text, \"lxml\")\n",
    "            #                        compile:  패턴을 컴파일 해서 재활용하는 목적\n",
    "            #                        r: rawstring으로 받아들여라, \\\\ --> \\           \n",
    "            magnets = bs.find_all(\"a\", href=re.compile(r'magnet:\\?xt=*'))\n",
    "\n",
    "            if len(magnets) > 0:\n",
    "                magnet = magnets[0][\"href\"]\n",
    "                results.append({\n",
    "                    'magnet': magnet,\n",
    "                    'title': title\n",
    "                })\n",
    "        except:\n",
    "            pass\n",
    "    if start_page < end_page:\n",
    "        start_page += 10\n",
    "        results.extend(search_google(keyword, start_page, end_page=end_page))\n",
    "\n",
    "    return results"
   ]
  },
  {
   "cell_type": "code",
   "execution_count": 14,
   "id": "minute-holly",
   "metadata": {},
   "outputs": [
    {
     "name": "stdout",
     "output_type": "stream",
     "text": [
      " * Serving Flask app \"__main__\" (lazy loading)\n",
      " * Environment: production\n",
      "   WARNING: This is a development server. Do not use it in a production deployment.\n",
      "   Use a production WSGI server instead.\n",
      " * Debug mode: on\n"
     ]
    },
    {
     "name": "stderr",
     "output_type": "stream",
     "text": [
      " * Restarting with stat\n"
     ]
    },
    {
     "ename": "SystemExit",
     "evalue": "1",
     "output_type": "error",
     "traceback": [
      "An exception has occurred, use %tb to see the full traceback.\n",
      "\u001b[1;31mSystemExit\u001b[0m\u001b[1;31m:\u001b[0m 1\n"
     ]
    }
   ],
   "source": [
    "@app.route('/', methods=['GET', 'POST'])\n",
    "def index():\n",
    "    if 'keyword' in request.form:\n",
    "        keyword = request.form['keyword']\n",
    "        results = search_google(keyword, 0)\n",
    "    # 맨 처음 랜더링된 화면, 검색값이 없을 때, GET\n",
    "    else:\n",
    "        results = []\n",
    "        \n",
    "    if len(results) > 0:\n",
    "        return render_template('index.html', **({'magnets': results}))\n",
    "    else:\n",
    "        return render_template('index.html')\n",
    "\n",
    "if __name__ == '__main__':\n",
    "    app.run(host='0.0.0.0', port=9995, debug=True)"
   ]
  }
 ],
 "metadata": {
  "kernelspec": {
   "display_name": "inaction",
   "language": "python",
   "name": "inaction"
  },
  "language_info": {
   "codemirror_mode": {
    "name": "ipython",
    "version": 3
   },
   "file_extension": ".py",
   "mimetype": "text/x-python",
   "name": "python",
   "nbconvert_exporter": "python",
   "pygments_lexer": "ipython3",
   "version": "3.9.1"
  }
 },
 "nbformat": 4,
 "nbformat_minor": 5
}
