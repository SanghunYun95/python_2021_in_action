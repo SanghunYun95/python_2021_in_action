{
 "cells": [
  {
   "cell_type": "code",
   "execution_count": 2,
   "id": "reverse-crime",
   "metadata": {},
   "outputs": [],
   "source": [
    "import telepot\n",
    "import logging\n",
    "import os\n",
    "import requests\n",
    "from bs4 import BeautifulSoup\n",
    "\n",
    "# log\n",
    "logging.basicConfig(level=logging.DEBUG)\n",
    "logger = logging.getLogger(__name__)\n",
    "\n",
    "TELEGRAM_TOKEN = 'TELEGRAM_TOKEN'"
   ]
  },
  {
   "cell_type": "code",
   "execution_count": null,
   "id": "architectural-sunglasses",
   "metadata": {},
   "outputs": [],
   "source": [
    "# 명령어 디렉토리 가져오기\n",
    "def get_dir_list(dir):\n",
    "    str_list = ''\n",
    "    if os.path.exists(dir):\n",
    "        file_list = os.listdir(dir)\n",
    "        file_list.sort()\n",
    "        for f in file_list:\n",
    "            full_path = os.path.join(dir, f)\n",
    "            if os.path.isdir(full_path):\n",
    "                f = '[' + f + ']'\n",
    "            str_list += f\n",
    "            str_list += '\\n'\n",
    "    str_list.strip()\n",
    "    return str_list"
   ]
  },
  {
   "cell_type": "code",
   "execution_count": 4,
   "id": "dependent-criticism",
   "metadata": {},
   "outputs": [
    {
     "name": "stderr",
     "output_type": "stream",
     "text": [
      "DEBUG:urllib3.connectionpool:Starting new HTTPS connection (1): search.naver.com:443\n",
      "DEBUG:urllib3.connectionpool:https://search.naver.com:443 \"GET /search.naver?where=nexearch&sm=top_sug.asiw&fbm=0&acr=1&acq=tjdnfs&qdt=0&ie=utf8&query=%EC%84%9C%EC%9A%B8+%EB%82%A0%EC%94%A8 HTTP/1.1\" 200 None\n"
     ]
    },
    {
     "name": "stdout",
     "output_type": "stream",
     "text": [
      "15 자외선 3보통 맑음, 어제보다 1˚ 높아요\n"
     ]
    }
   ],
   "source": [
    "# 날씨 정보 가져오기\n",
    "def get_weather(location):\n",
    "    weather = ''\n",
    "    url = f'https://search.naver.com/search.naver?where=nexearch&sm=top_sug.asiw&fbm=0&acr=1&acq=tjdnfs&qdt=0&ie=utf8&query={location}+날씨'\n",
    "    r = requests.get(url)\n",
    "    bs = BeautifulSoup(r.text, 'lxml')\n",
    "    w_box = bs.select('div.today_area > div.main_info')\n",
    "    \n",
    "    if len(w_box) > 0:\n",
    "        temperature = bs.select('span.todaytemp')\n",
    "        cast_text = bs.select('p.cast_txt')\n",
    "        indicator = bs.select('span.indicator')\n",
    "        \n",
    "        if len(temperature) > 0 and len(cast_text) > 0 and len(indicator) > 0:\n",
    "            temperature = temperature[0].text.strip()\n",
    "            indicator = indicator[0].text.strip()\n",
    "            txt = cast_text[0].text.strip()\n",
    "            # Telegram에서는 캐리지 리턴 \\r을 붙여줘야 한다\n",
    "            weather = f'{temperature}℃\\r\\n{indicator}\\r\\n{txt}'\n",
    "        return weather"
   ]
  },
  {
   "cell_type": "code",
   "execution_count": 8,
   "id": "comprehensive-crazy",
   "metadata": {},
   "outputs": [
    {
     "name": "stderr",
     "output_type": "stream",
     "text": [
      "DEBUG:urllib3.connectionpool:Starting new HTTPS connection (1): finance.naver.com:443\n",
      "DEBUG:urllib3.connectionpool:https://finance.naver.com:443 \"GET /marketindex/exchangeList.nhn HTTP/1.1\" 200 3638\n"
     ]
    },
    {
     "name": "stdout",
     "output_type": "stream",
     "text": [
      "14,271.0 원\n"
     ]
    }
   ],
   "source": [
    "# 환율 정보 가져오기\n",
    "MONEY_NAME = {\n",
    "    \"유로\": \"유럽연합 EUR\",\n",
    "    \"엔\": \"일본 JPY (100엔)\",\n",
    "    \"위안\": \"중국 CNY\",\n",
    "    \"홍콩달라\": \"홍콩 HKD\",\n",
    "    \"타이완달라\": \"대만 TWD\",\n",
    "    \"파운드\": \"영국 GBP\",\n",
    "    # '달라'가 위 홍콩달라, 타이완달라에도 쓰이기 때문에 index 검색에서 달라가 먼저 걸리는것을 피하기 위해\n",
    "    # 달라를 가장 마지막에 둔다\n",
    "     \"달라\": \"미국 USD\",\n",
    "}\n",
    "\n",
    "def get_exchange_info():\n",
    "    EXCHANGE_LIST = {}\n",
    "    url = 'https://finance.naver.com/marketindex/exchangeList.nhn'\n",
    "    r = requests.get(url)\n",
    "    bs = BeautifulSoup(r.text, 'lxml')\n",
    "    trs = bs.select('table.tbl_exchange > tbody > tr')\n",
    "    for tr in trs:\n",
    "        tds = tr.select('td')\n",
    "        name = tds[0].text.strip()\n",
    "        value = tds[1].text.strip().replace(',', '')\n",
    "        EXCHANGE_LIST[name] = value\n",
    "    return EXCHANGE_LIST\n",
    "    \n",
    "    \n",
    "def money_translate(keyword):\n",
    "    EXCHANGE_LIST = get_exchange_info()\n",
    "    keywords = []\n",
    "    for m in MONEY_NAME.keys():\n",
    "        if m in keyword:\n",
    "            keywords.append(keyword[0:keyword.find(m)].strip())\n",
    "            keywords.append(m)\n",
    "            break\n",
    "    \n",
    "    if keywords[1] in MONEY_NAME:\n",
    "        country = MONEY_NAME[keywords[1]]\n",
    "        \n",
    "        if country in EXCHANGE_LIST:\n",
    "            money = float(EXCHANGE_LIST[country])\n",
    "            if country == '일본 JPY (100엔)':\n",
    "                money /= 100\n",
    "            \n",
    "            money = format(round(float(money) * float(keywords[0]), 3), ',')\n",
    "            output = f'{money} 원'\n",
    "            return output\n",
    "        \n",
    "#print(money_translate('100 달라'))"
   ]
  },
  {
   "cell_type": "code",
   "execution_count": 1,
   "id": "small-prototype",
   "metadata": {},
   "outputs": [
    {
     "ename": "IndentationError",
     "evalue": "expected an indented block (<ipython-input-1-f988d30ec4f6>, line 18)",
     "output_type": "error",
     "traceback": [
      "\u001b[1;36m  File \u001b[1;32m\"<ipython-input-1-f988d30ec4f6>\"\u001b[1;36m, line \u001b[1;32m18\u001b[0m\n\u001b[1;33m    filelist = get_dir_list(filepath)\u001b[0m\n\u001b[1;37m    ^\u001b[0m\n\u001b[1;31mIndentationError\u001b[0m\u001b[1;31m:\u001b[0m expected an indented block\n"
     ]
    }
   ],
   "source": [
    "# Bot Handler\n",
    "def handler(msg):\n",
    "    content_type, chat_Type, chat_id, msg_id = telepot.glance(msg, long=True)\n",
    "    \n",
    "    print(msg)\n",
    "    \n",
    "    # /dir c:\\\\test\n",
    "    if content_type == 'text':\n",
    "        str_message = msg['text']\n",
    "        if str_message[0:1] == '/':\n",
    "            atgs = str_message.split(' ')\n",
    "            command = args[0]\n",
    "            del args[0]\n",
    "            \n",
    "            # 지정 경로안의 모든 파일 및 폴더 목록 가져오기\n",
    "            if command == '/dir' or command == '/목록':\n",
    "                filepath = ' '.join(args)\n",
    "                if filepath.strip() == '':\n",
    "                    bot.sendMessage(chat_id, '/dir [대상폴더] 로 입력해주세요.')\n",
    "                else:\n",
    "                    filelist = get_dir_list(filepath)\n",
    "                    bot.sendMessage(chat_id, filelist)\n",
    "                    \n",
    "            # 지정 지역의 날씨 정보 가져오기\n",
    "            elif command == '/weather' or command == '/날씨':\n",
    "                w = ' '.join(args)\n",
    "                weather = get_weather(w)\n",
    "                bot.sendMessage(chat_id, weather)\n",
    "                \n",
    "            # 지정 환율정보 가져오기\n",
    "            elif command == '/money' or command == '/환율':\n",
    "                m = ' '.join(args)\n",
    "                exchange = money_translate(m)\n",
    "                bot.sendMessage(chat_id, exchange)\n",
    "                \n",
    "            # 지정 파일 다운로드하기\n",
    "            elif command[0:4] == '/get':\n",
    "                filepath = ' '.join(args)\n",
    "                if os.path.exist(filepath):\n",
    "                    try:\n",
    "                        if command == '/getfile':\n",
    "                            bot.sendDocument(chat_id, open(filepath, 'rb'))\n",
    "                        elif command == '/getimage':\n",
    "                             bot.sendPhoto(chat_id, open(filepath, 'rb'))\n",
    "                        elif command == '/getaudio\n",
    "                             bot.sendAudio(chat_id, open(filepath, 'rb'))\n",
    "                        elif command == '/getvideo':\n",
    "                             bot.sendVideo(chat_id, open(filepath, 'rb'))\n",
    "                    except Exception as e:\n",
    "                        bot.sendMessage(chat_id, f'파일 전송 실패: {e}')\n",
    "                else:\n",
    "                    bot.sendMessage(chat_id, '파일이 존재하지 않습니다.')\n",
    "                            \n",
    "                            \n",
    "                            \n",
    "bot = telepot.Bot(TELEGRAM_TOKEN)\n",
    "bot.message_loop(handler, run_forever=True)"
   ]
  }
 ],
 "metadata": {
  "kernelspec": {
   "display_name": "inaction",
   "language": "python",
   "name": "inaction"
  },
  "language_info": {
   "codemirror_mode": {
    "name": "ipython",
    "version": 3
   },
   "file_extension": ".py",
   "mimetype": "text/x-python",
   "name": "python",
   "nbconvert_exporter": "python",
   "pygments_lexer": "ipython3",
   "version": "3.9.1"
  }
 },
 "nbformat": 4,
 "nbformat_minor": 5
}
