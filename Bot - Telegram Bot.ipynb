{
 "cells": [
  {
   "cell_type": "code",
   "execution_count": null,
   "id": "small-prototype",
   "metadata": {},
   "outputs": [],
   "source": [
    "import telepot\n",
    "\n",
    "TELEGRAM_TOKEN = 'TELEGRAM_TOKEN'\n",
    "\n",
    "def handler(msg):\n",
    "    content_type, chat_Type, chat_id, msg_id = telepot.glance(msg, long=True)\n",
    "    \n",
    "    if content_type == 'text':\n",
    "        bot.sendMessage(chat_id, f'[반사] {msg['text']}')\n",
    "        \n",
    "bot = telepot.Bot(TELEGRAM_TOKEN)\n",
    "bot.message_loop(handler, run_forever=True)"
   ]
  }
 ],
 "metadata": {
  "kernelspec": {
   "display_name": "inaction",
   "language": "python",
   "name": "inaction"
  },
  "language_info": {
   "codemirror_mode": {
    "name": "ipython",
    "version": 3
   },
   "file_extension": ".py",
   "mimetype": "text/x-python",
   "name": "python",
   "nbconvert_exporter": "python",
   "pygments_lexer": "ipython3",
   "version": "3.9.1"
  }
 },
 "nbformat": 4,
 "nbformat_minor": 5
}
