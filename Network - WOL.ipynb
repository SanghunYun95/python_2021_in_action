{
 "cells": [
  {
   "cell_type": "markdown",
   "id": "consolidated-circle",
   "metadata": {},
   "source": [
    "## WOL, 공유기 주소로 특정 맥어드레스에 컴퓨터 켜기 코드 쏘기"
   ]
  },
  {
   "cell_type": "code",
   "execution_count": null,
   "id": "quantitative-requirement",
   "metadata": {},
   "outputs": [],
   "source": [
    "'''\n",
    "매직패킷은 16진수 FF 상수값이 6번 반복 + 대상 컴퓨터의 맥어드레스가 16번 반복(16진수)\n",
    "'''\n",
    "\n",
    "import struct\n",
    "import socket\n",
    "\n",
    "mycoms = {\n",
    "        # mac address\n",
    "    'pc1': 'AA-BB-CC-DD-EE-FF',\n",
    "    'pc2': '11-22-33-44-55-66'\n",
    "}\n",
    "\n",
    "def wake_on_lan(mac):\n",
    "    addrs = mac.split('-')\n",
    "    hw_addr = struct.pack('BBBBBB', \n",
    "    int(addrs[0], 16),\n",
    "    int(addrs[1], 16),\n",
    "    int(addrs[2], 16),\n",
    "    int(addrs[3], 16),\n",
    "    int(addrs[4], 16),\n",
    "    int(addrs[5], 16))\n",
    "\n",
    "    magic = b'\\xFF' * 6 + hw_addr * 16\n",
    "    \n",
    "    s = socket.socket(socket.AF_INET, socket.SOCK_DGRAM)\n",
    "    s.setsockopt(socket.SOL_SOCKET, socket.SO_BROADCAST, 1)\n",
    "    s.sendto(magic, ('192.168.0.255', 7))\n",
    "    s.close()\n",
    "    \n",
    "#wake_on_len('AA-BB-CC-DD-EE-FF')\n",
    "\n",
    "if __name__ == '__main__':\n",
    "    os.system('cls')\n",
    "    count = 1 \n",
    "    for name, mac in mycoms.items():\n",
    "        print(f'{count}, {mac}, ({name})')\n",
    "        count += 1\n",
    "    print('*' * 70)\n",
    "    select = int(input('매직패킷을 보낼 PC 번호를 입력하세요: '))\n",
    "    # dictionary는 순서가없어서 list로 형변환 0번 인덱스부터 시작 --> 1-1\n",
    "    name, mac = list(mycoms.items())[select-1]\n",
    "    wake_on_lan(mac)\n",
    "    \n"
   ]
  }
 ],
 "metadata": {
  "kernelspec": {
   "display_name": "inaction",
   "language": "python",
   "name": "inaction"
  },
  "language_info": {
   "codemirror_mode": {
    "name": "ipython",
    "version": 3
   },
   "file_extension": ".py",
   "mimetype": "text/x-python",
   "name": "python",
   "nbconvert_exporter": "python",
   "pygments_lexer": "ipython3",
   "version": "3.9.1"
  }
 },
 "nbformat": 4,
 "nbformat_minor": 5
}
