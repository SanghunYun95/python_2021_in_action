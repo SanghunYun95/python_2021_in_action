{
 "cells": [
  {
   "cell_type": "code",
   "execution_count": 1,
   "id": "certain-thong",
   "metadata": {},
   "outputs": [],
   "source": [
    "from PyQt5 import QtWidgets\n",
    "from PyQt5 import QtCore"
   ]
  },
  {
   "cell_type": "code",
   "execution_count": 2,
   "id": "crude-vietnamese",
   "metadata": {},
   "outputs": [
    {
     "data": {
      "text/plain": [
       "0"
      ]
     },
     "execution_count": 2,
     "metadata": {},
     "output_type": "execute_result"
    }
   ],
   "source": [
    "LABEL_LIST = ['현재색(F5)', '보색', '저장A(F2)', '저장B(F3)', 'A+B 혼합', '3x3 평균', 'HSV']\n",
    "\n",
    "class MyPicker(QtWidgets.QMainWindow):\n",
    "    def __init__(self):\n",
    "        super().__init__()\n",
    "        \n",
    "        self.title = '파이피커'\n",
    "        self.setWindowTitle(self.title)\n",
    "        self.setFixedSize(300, 500)\n",
    "        self.main_widget = QtWidgets.QWidget()\n",
    "        self.createWidgets()\n",
    "        self.setCentralWidget(self.main_widget)\n",
    "        self.show()\n",
    "        \n",
    "    def createWidgets(self):\n",
    "        self.labelStyle = 'padding:1px; font-size:13px; font-family:맑은 고딕;'\n",
    "        self.editStyle = 'padding:1px; font-size:13px; font-family:맑은 고딕; border:1px solid #000000'\n",
    "        \n",
    "        vbox = QtWidgets.QVBoxLayout()\n",
    "        self.viewer = QtWidgets.QLabel()\n",
    "        self.viewer.setBaseSize(300, 300)\n",
    "        self.viewer.setText('이미지창')\n",
    "        #                        가로로 가운데정렬   | 두가지 옵션 모두 적용    세로로 가운데 정렬\n",
    "        self.viewer.setAlignment(QtCore.Qt.AlignCenter|QtCore.Qt.AlignVCenter)\n",
    "        vbox.addWidget(self.viewer)\n",
    "        \n",
    "        grid = QtWidgets.QGridLayout()\n",
    "        grid.setSpacing(3)\n",
    "        \n",
    "        for i, l in enumerate(LABEL_LIST):\n",
    "            label = QtWidgets.QLabel(l)\n",
    "            label.setStyleSheet(self.labelStyle)\n",
    "            label.setAlignment(QtCore.Qt.AlignRight | QtCore.Qt.AlignVCenter)\n",
    "            \n",
    "            color = QtWidgets.QLineEdit()\n",
    "            color.setStyleSheet(self.editStyle)\n",
    "            color.setReadOnly(True)\n",
    "            \n",
    "            grid.addWidget(label, i+1, 0)\n",
    "            grid.addWidget(color, i+1, 1)\n",
    "        \n",
    "        label = QtWidgets.QLabel('코드형식')\n",
    "        label.setStyleSheet(self.labelStyle)\n",
    "        label.setAlignment(QtCore.Qt.AlignRight | QtCore.Qt.AlignVCenter)\n",
    "        \n",
    "        self.comboBox = QtWidgets.QComboBox()\n",
    "        self.comboBox.addItem('HTML')\n",
    "        self.comboBox.addItem('RGB')\n",
    "        self.comboBox.setStyleSheet('padding:3px;')\n",
    "        grid.addWidget(label, len(LABEL_LIST) + 1, 0)\n",
    "        grid.addWidget(self.comboBox, len(LABEL_LIST) + 1, 1)\n",
    "        \n",
    "        vbox.addLayout(grid)\n",
    "        self.main_widget.setLayout(vbox)\n",
    "        \n",
    "app = QtWidgets.QApplication([])\n",
    "picker = MyPicker()\n",
    "app.exec_()"
   ]
  }
 ],
 "metadata": {
  "kernelspec": {
   "display_name": "inaction",
   "language": "python",
   "name": "inaction"
  },
  "language_info": {
   "codemirror_mode": {
    "name": "ipython",
    "version": 3
   },
   "file_extension": ".py",
   "mimetype": "text/x-python",
   "name": "python",
   "nbconvert_exporter": "python",
   "pygments_lexer": "ipython3",
   "version": "3.9.1"
  }
 },
 "nbformat": 4,
 "nbformat_minor": 5
}
