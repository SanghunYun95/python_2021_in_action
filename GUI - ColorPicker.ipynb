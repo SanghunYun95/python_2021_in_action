{
 "cells": [
  {
   "cell_type": "code",
   "execution_count": 1,
   "id": "certain-thong",
   "metadata": {},
   "outputs": [
    {
     "ename": "ImportError",
     "evalue": "DLL load failed while importing win32ui: DLL 초기화 루틴을 실행할 수 없습니다.",
     "output_type": "error",
     "traceback": [
      "\u001b[1;31m---------------------------------------------------------------------------\u001b[0m",
      "\u001b[1;31mImportError\u001b[0m                               Traceback (most recent call last)",
      "\u001b[1;32m<ipython-input-1-b36847b71096>\u001b[0m in \u001b[0;36m<module>\u001b[1;34m\u001b[0m\n\u001b[0;32m      2\u001b[0m \u001b[1;32mfrom\u001b[0m \u001b[0mPyQt5\u001b[0m \u001b[1;32mimport\u001b[0m \u001b[0mQtCore\u001b[0m\u001b[1;33m\u001b[0m\u001b[1;33m\u001b[0m\u001b[0m\n\u001b[0;32m      3\u001b[0m \u001b[1;32mimport\u001b[0m \u001b[0mwin32gui\u001b[0m\u001b[1;33m\u001b[0m\u001b[1;33m\u001b[0m\u001b[0m\n\u001b[1;32m----> 4\u001b[1;33m \u001b[1;32mimport\u001b[0m \u001b[0mwin32ui\u001b[0m\u001b[1;33m\u001b[0m\u001b[1;33m\u001b[0m\u001b[0m\n\u001b[0m\u001b[0;32m      5\u001b[0m \u001b[1;32mimport\u001b[0m \u001b[0mwin32con\u001b[0m\u001b[1;33m\u001b[0m\u001b[1;33m\u001b[0m\u001b[0m\n\u001b[0;32m      6\u001b[0m \u001b[1;32mimport\u001b[0m \u001b[0mcv2\u001b[0m\u001b[1;33m\u001b[0m\u001b[1;33m\u001b[0m\u001b[0m\n",
      "\u001b[1;31mImportError\u001b[0m: DLL load failed while importing win32ui: DLL 초기화 루틴을 실행할 수 없습니다."
     ]
    }
   ],
   "source": [
    "from PyQt5 import QtWidgets\n",
    "from PyQt5 import QtCore\n",
    "import win32gui\n",
    "import win32ui\n",
    "import win32con\n",
    "import cv2\n",
    "import numpy as np"
   ]
  },
  {
   "cell_type": "code",
   "execution_count": null,
   "id": "sitting-project",
   "metadata": {},
   "outputs": [],
   "source": [
    "LABEL_LIST = ['현재색(F5)', '보색', '저장A(F2)', '저장B(F3)', 'A+B 혼합', '3x3 평균', 'HSV']"
   ]
  },
  {
   "cell_type": "markdown",
   "id": "documentary-kentucky",
   "metadata": {},
   "source": [
    "# 배경지식--\n",
    "\n",
    "## 파이썬으로 ColorPicker를 구현하기 위해서 다른 라이브러리를 사용하지 않고 윈도우 API를 사용한다 (속도때문)\n",
    "## pypiwin32 라이브러리 사용\n",
    "\n",
    "## 윈도우 프로그래밍\n",
    "### GetDesktopWindow():\n",
    "####                                     Windows OS에서 최상위 윈도우를 구하는 함수\n",
    "####                                     최상위 윈도우는 모든 윈도우의 부모 윈도우를 구하는 함수\n",
    "\n",
    "\n",
    "### Handle:\n",
    "####                                      Windows OS에서 생선되는 자원에 부여하는 고유값\n",
    "####                                      핸들의 포괄적인 목적은 해당 자원을 핸들링하기 위함\n",
    "\n",
    "\n",
    "### Device Context:\n",
    "####                                      Windows OS에서 화면출력에 관한 모든 정보를 담고 있는 구조체\n",
    "####                                      Windows에서 글자를 쓰던 그림을 그리던 DC를 이용해야 함\n"
   ]
  },
  {
   "cell_type": "code",
   "execution_count": null,
   "id": "extra-positive",
   "metadata": {},
   "outputs": [],
   "source": [
    "def captureWindow(x=0, y=0, width=0, height=0):\n",
    "    hwin = win32gui.GetDesktopWindow()\n",
    "    hwindc = win32gui.GetWindowDC(hwin)\n",
    "    srcdc = win32ui.CreateDCFromHandle(hwindc) # 현재 보여지는 화면 --> 여기에 그리면 실제로 그려짐\n",
    "    memdc = srcdc.CreateCompatibleDC() # 복사본 생성 후 작업\n",
    "    bmp = win32ui.CreateBitmap()\n",
    "    bmp.CreateCompatibleBitmap(srcdc, width, height)  # 압축되지 않은 원본 이미지\n",
    "    memdc.SelectObject(bmp)\n",
    "    memdc.BitBlt((0,0), (width, height), srcdc, (x, y), win32con.SRCCOPY)\n",
    "    sigIntArray = bmp.GetBitmapBits(True)\n",
    "    img = np.fromstring(sigIntArray, dtype='uint8')\n",
    "    img.shape = (height, width, 4) # 4채널 RGBA\n",
    "    \n",
    "    srcdc.DeleteDC()\n",
    "    memdc.DeleteDC()\n",
    "    win32gui.ReleaseDC(hwin, hwindc)\n",
    "    win32gui.DeleteObject(bmp.GetHandle())\n",
    "    \n",
    "    return cv2.cvtColor(img, cv2.COLOR_BGR2RGB)"
   ]
  },
  {
   "cell_type": "code",
   "execution_count": null,
   "id": "crude-vietnamese",
   "metadata": {},
   "outputs": [],
   "source": [
    "class MyPicker(QtWidgets.QMainWindow):\n",
    "    def __init__(self):\n",
    "        super().__init__()\n",
    "        \n",
    "        self.title = '파이피커'\n",
    "        self.setWindowTitle(self.title)\n",
    "        self.setFixedSize(300, 500)\n",
    "        self.main_widget = QtWidgets.QWidget()\n",
    "        self.createWidgets()\n",
    "        self.setCentralWidget(self.main_widget)\n",
    "        self.show()\n",
    "        \n",
    "    def createWidgets(self):\n",
    "        self.labelStyle = 'padding:1px; font-size:13px; font-family:맑은 고딕;'\n",
    "        self.editStyle = 'padding:1px; font-size:13px; font-family:맑은 고딕; border:1px solid #000000'\n",
    "        \n",
    "        vbox = QtWidgets.QVBoxLayout()\n",
    "        self.viewer = QtWidgets.QLabel()\n",
    "        self.viewer.setBaseSize(300, 300)\n",
    "        self.viewer.setText('이미지창')\n",
    "        #                        가로로 가운데정렬   | 두가지 옵션 모두 적용    세로로 가운데 정렬\n",
    "        self.viewer.setAlignment(QtCore.Qt.AlignCenter|QtCore.Qt.AlignVCenter)\n",
    "        vbox.addWidget(self.viewer)\n",
    "        \n",
    "        grid = QtWidgets.QGridLayout()\n",
    "        grid.setSpacing(3)\n",
    "        \n",
    "        for i, l in enumerate(LABEL_LIST):\n",
    "            label = QtWidgets.QLabel(l)\n",
    "            label.setStyleSheet(self.labelStyle)\n",
    "            label.setAlignment(QtCore.Qt.AlignRight | QtCore.Qt.AlignVCenter)\n",
    "            \n",
    "            color = QtWidgets.QLineEdit()\n",
    "            color.setStyleSheet(self.editStyle)\n",
    "            color.setReadOnly(True)\n",
    "            \n",
    "            grid.addWidget(label, i+1, 0)\n",
    "            grid.addWidget(color, i+1, 1)\n",
    "        \n",
    "        label = QtWidgets.QLabel('코드형식')\n",
    "        label.setStyleSheet(self.labelStyle)\n",
    "        label.setAlignment(QtCore.Qt.AlignRight | QtCore.Qt.AlignVCenter)\n",
    "        \n",
    "        self.comboBox = QtWidgets.QComboBox()\n",
    "        self.comboBox.addItem('HTML')\n",
    "        self.comboBox.addItem('RGB')\n",
    "        self.comboBox.setStyleSheet('padding:3px;')\n",
    "        grid.addWidget(label, len(LABEL_LIST) + 1, 0)\n",
    "        grid.addWidget(self.comboBox, len(LABEL_LIST) + 1, 1)\n",
    "        \n",
    "        vbox.addLayout(grid)\n",
    "        self.main_widget.setLayout(vbox)\n",
    "        \n",
    "# app = QtWidgets.QApplication([])\n",
    "# picker = MyPicker()\n",
    "# app.exec_()\n",
    "c = captureWindow(0, 0, 200, 200)\n",
    "cv2.imshow('S', c)\n",
    "cv2.waitKey(0)\n",
    "cv2.destroyAllWindows()"
   ]
  }
 ],
 "metadata": {
  "kernelspec": {
   "display_name": "inaction",
   "language": "python",
   "name": "inaction"
  },
  "language_info": {
   "codemirror_mode": {
    "name": "ipython",
    "version": 3
   },
   "file_extension": ".py",
   "mimetype": "text/x-python",
   "name": "python",
   "nbconvert_exporter": "python",
   "pygments_lexer": "ipython3",
   "version": "3.9.1"
  }
 },
 "nbformat": 4,
 "nbformat_minor": 5
}
